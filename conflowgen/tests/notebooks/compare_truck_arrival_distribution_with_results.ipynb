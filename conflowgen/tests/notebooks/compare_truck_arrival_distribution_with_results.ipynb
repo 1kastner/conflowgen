{
 "cells": [
  {
   "cell_type": "markdown",
   "id": "7baf40f6-1aa3-4721-b70f-1beed1674f16",
   "metadata": {},
   "source": [
    "# Compare truck arrival distribution with results"
   ]
  },
  {
   "cell_type": "code",
   "execution_count": null,
   "id": "b258d9dc-c84e-49f3-8ed5-2c9427142944",
   "metadata": {},
   "outputs": [],
   "source": [
    "import os\n",
    "import sys\n",
    "\n",
    "import datetime\n",
    "\n",
    "import matplotlib.pyplot as plt\n",
    "import numpy as np\n",
    "import matplotlib"
   ]
  },
  {
   "cell_type": "code",
   "execution_count": null,
   "id": "fc51dfa8-bec9-44d2-bed6-1233edd58c05",
   "metadata": {},
   "outputs": [],
   "source": [
    "path_to_conflowgen = os.path.abspath(\n",
    "    os.path.join(\n",
    "        os.pardir,  # notebooks\n",
    "        os.pardir,  # tests\n",
    "        os.pardir  # conflowgen\n",
    "    )\n",
    ")\n",
    "\n",
    "path_to_conflowgen"
   ]
  },
  {
   "cell_type": "code",
   "execution_count": null,
   "id": "de07fcc2-c6dd-4330-90db-4c7b909dcdaf",
   "metadata": {
    "tags": []
   },
   "outputs": [],
   "source": [
    "sys.path.insert(\n",
    "    0,\n",
    "    path_to_conflowgen\n",
    ")"
   ]
  },
  {
   "cell_type": "code",
   "execution_count": null,
   "id": "97466783-f2d4-4391-b92f-6098d84b110b",
   "metadata": {},
   "outputs": [],
   "source": [
    "import conflowgen\n",
    "\n",
    "conflowgen.__file__"
   ]
  },
  {
   "cell_type": "markdown",
   "id": "00043508-7cc8-4885-907e-c0c606da5c7c",
   "metadata": {},
   "source": [
    "Load previously defined data."
   ]
  },
  {
   "cell_type": "code",
   "execution_count": null,
   "id": "ff7e03a2-99cc-4aac-b856-fb0c0c12219c",
   "metadata": {
    "scrolled": true,
    "tags": []
   },
   "outputs": [],
   "source": [
    "conflowgen.setup_logger(\n",
    "    logging_directory=\"./data/logger\",  # use subdirectory relative to Jupyter Notebook\n",
    ")\n",
    "\n",
    "database_chooser = conflowgen.DatabaseChooser(\n",
    "    sqlite_databases_directory=\"../../data/databases\"  # use subdirectory relative to Jupyter Notebook\n",
    ")"
   ]
  },
  {
   "cell_type": "code",
   "execution_count": null,
   "id": "e895386d-1e04-4c69-97de-9a246d162e87",
   "metadata": {
    "scrolled": true,
    "tags": []
   },
   "outputs": [],
   "source": [
    "file_name = \"demo_continental_gateway.sqlite\"\n",
    "\n",
    "database_chooser.load_existing_sqlite_database(file_name)"
   ]
  },
  {
   "cell_type": "markdown",
   "id": "888a3868-532a-4896-8bf7-41ad39c876a0",
   "metadata": {},
   "source": [
    "Visualize weekly curve."
   ]
  },
  {
   "cell_type": "code",
   "execution_count": null,
   "id": "e92412b0-a766-4eb6-8e21-68bf0cbd694e",
   "metadata": {},
   "outputs": [],
   "source": [
    "truck_arrival_distribution_manager = conflowgen.TruckArrivalDistributionManager()\n",
    "\n",
    "truck_arrival_distribution = truck_arrival_distribution_manager.get_truck_arrival_distribution()\n",
    "\n",
    "hour_in_week, fraction = zip(*list(sorted(truck_arrival_distribution.items())))\n",
    "weekday_in_week = [x / 24 + 1 for x in hour_in_week]\n",
    "percentage = [x * 100 for x in fraction]\n",
    "\n",
    "fig, ax = plt.subplots(figsize=(15, 3))\n",
    "plt.plot(weekday_in_week, percentage)\n",
    "plt.xlim([1, 7])  # plot from Monday to Sunday\n",
    "ax.xaxis.grid(True, which='minor', color='lightgray')  # every hour\n",
    "ax.xaxis.grid(True, which='major', color='k')  # every day\n",
    "ax.xaxis.set_minor_locator(matplotlib.ticker.MultipleLocator(1 / 24))  # every hour\n",
    "\n",
    "plt.title(\"Truck arrival distribution\")\n",
    "ax.set_xticks([i for i in range(1, 8)])  # every day\n",
    "ax.set_xticklabels([\"Monday\", \"Tuesday\", \"Wednesday\", \"Thursday\", \"Friday\", \"Saturday\", \"Sunday\"])\n",
    "plt.xlabel(\"Week day\")\n",
    "plt.ylabel(\"Share (as percentage overall)\")\n",
    "\n",
    "plt.show()"
   ]
  },
  {
   "cell_type": "code",
   "execution_count": null,
   "id": "4cad1bdb-07e8-4dca-80cd-8c1cbfc93f38",
   "metadata": {},
   "outputs": [],
   "source": [
    "truck_gate_throughput_analysis_report = conflowgen.TruckGateThroughputAnalysisReport()\n",
    "truck_gate_throughput_analysis_report"
   ]
  },
  {
   "cell_type": "markdown",
   "id": "07260200-e319-467a-9f17-a1759a9e96ca",
   "metadata": {},
   "source": [
    "Check the reported data."
   ]
  },
  {
   "cell_type": "code",
   "execution_count": null,
   "id": "d9139180-3a3d-4b8f-9761-412eabccf4b3",
   "metadata": {},
   "outputs": [],
   "source": [
    "truck_gate_throughput_analysis_report.show_report_as_graph()"
   ]
  },
  {
   "cell_type": "markdown",
   "id": "bfa6bc76-715e-49d2-9e22-7222d7c83ea7",
   "metadata": {},
   "source": [
    "Take a smaller slice."
   ]
  },
  {
   "cell_type": "code",
   "execution_count": null,
   "id": "a1e6960e-7936-42e1-bf4c-621f72f96305",
   "metadata": {},
   "outputs": [],
   "source": [
    "truck_gate_throughput_analysis_report.show_report_as_graph(\n",
    "    start_date=datetime.datetime(2021, 6, 28),\n",
    "    end_date=datetime.datetime(2021, 7, 5)\n",
    ")"
   ]
  },
  {
   "cell_type": "markdown",
   "id": "faed199b-977b-4bc6-a180-64c5590c4b22",
   "metadata": {},
   "source": [
    "Also check the reported numbers."
   ]
  },
  {
   "cell_type": "code",
   "execution_count": null,
   "id": "7afc8a13-88bd-4357-85f5-2e3c0082183a",
   "metadata": {},
   "outputs": [],
   "source": [
    "text = truck_gate_throughput_analysis_report.get_report_as_text(\n",
    "    start_date=datetime.datetime(2021, 6, 28),\n",
    "    end_date=datetime.datetime(2021, 7, 5)\n",
    ")\n",
    "print(text)"
   ]
  },
  {
   "cell_type": "markdown",
   "id": "8a0d1bd7-45ba-48fb-8c1f-d26eacb05b31",
   "metadata": {},
   "source": [
    "Project weekly curve on same time range."
   ]
  },
  {
   "cell_type": "code",
   "execution_count": null,
   "id": "2e3f5482-ced6-46b5-88db-76a689fd048b",
   "metadata": {},
   "outputs": [],
   "source": [
    "hour_in_week, fraction = zip(*list(sorted(truck_arrival_distribution.items())))\n",
    "dates = [datetime.datetime(2021, 6, 28) + datetime.timedelta(hours=x) for x in hour_in_week]\n",
    "percentage = [x * 100 for x in fraction]\n",
    "\n",
    "fig, ax = plt.subplots(figsize=(15, 3))\n",
    "plt.plot(dates, percentage)\n",
    "ax.xaxis.grid(True, which='minor', color='lightgray')\n",
    "\n",
    "plt.title(\"Truck arrival distribution\")\n",
    "\n",
    "plt.show()"
   ]
  },
  {
   "cell_type": "markdown",
   "id": "9591b294-e3ea-4777-b5c0-fc8a76e9aa2e",
   "metadata": {},
   "source": [
    "Combine both visuals."
   ]
  },
  {
   "cell_type": "code",
   "execution_count": null,
   "id": "92e0d837-72ec-44dc-923f-475e9723940d",
   "metadata": {},
   "outputs": [],
   "source": [
    "fig, ax = plt.subplots(figsize=(15, 3))\n",
    "\n",
    "plt.plot(dates, np.array(percentage) * 50)  # use factor to scale this approximately to the same scale\n",
    "\n",
    "truck_gate_throughput_analysis_report.get_report_as_graph(\n",
    "    start_date=datetime.datetime(2021, 6, 28),\n",
    "    end_date=datetime.datetime(2021, 7, 5)\n",
    ")\n",
    "\n",
    "plt.show()"
   ]
  },
  {
   "cell_type": "code",
   "execution_count": null,
   "id": "38a3579b-4437-430a-9b84-075d5b5b240d",
   "metadata": {},
   "outputs": [],
   "source": [
    "database_chooser.close_current_connection()"
   ]
  },
  {
   "cell_type": "markdown",
   "id": "5fb3bf2f-31eb-49d2-ac56-b77008ac8b8a",
   "metadata": {},
   "source": []
  }
 ],
 "metadata": {
  "kernelspec": {
   "display_name": "Python 3 (ipykernel)",
   "language": "python",
   "name": "python3"
  },
  "language_info": {
   "codemirror_mode": {
    "name": "ipython",
    "version": 3
   },
   "file_extension": ".py",
   "mimetype": "text/x-python",
   "name": "python",
   "nbconvert_exporter": "python",
   "pygments_lexer": "ipython3",
   "version": "3.10.1"
  }
 },
 "nbformat": 4,
 "nbformat_minor": 5
}
