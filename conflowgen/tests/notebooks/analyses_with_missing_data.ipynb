{
 "cells": [
  {
   "cell_type": "markdown",
   "id": "568c22c5-73f1-4852-bc2d-699d379b1f2b",
   "metadata": {},
   "source": [
    "# Analyses with missing data\n",
    "\n",
    "If there is no input data available, analyses need to reflect that.\n",
    "This is not a default case so each visual does not need to be that elaborated as long as it does not harm the style guidelines and conveys the message."
   ]
  },
  {
   "cell_type": "markdown",
   "id": "b7a81385-f85b-4e20-99da-9a940bf65436",
   "metadata": {},
   "source": [
    "## Load dev version"
   ]
  },
  {
   "cell_type": "code",
   "execution_count": null,
   "id": "ba0722b3-ed03-4442-af60-6f0e07ba3d0a",
   "metadata": {},
   "outputs": [],
   "source": [
    "import os\n",
    "import sys\n",
    "import datetime\n",
    "\n",
    "path_to_conflowgen = os.path.abspath(\n",
    "    os.path.join(\n",
    "        os.pardir,  # notebooks\n",
    "        os.pardir,  # tests\n",
    "        os.pardir  # conflowgen\n",
    "    )\n",
    ")\n",
    "\n",
    "path_to_conflowgen"
   ]
  },
  {
   "cell_type": "code",
   "execution_count": null,
   "id": "e5b21054-b0a1-4145-8b85-fd58bce84c3a",
   "metadata": {},
   "outputs": [],
   "source": [
    "sys.path.insert(\n",
    "    0,\n",
    "    path_to_conflowgen\n",
    ")"
   ]
  },
  {
   "cell_type": "code",
   "execution_count": null,
   "id": "aceb1765-ea2b-4a6e-96b9-6ab7fa49d351",
   "metadata": {},
   "outputs": [],
   "source": [
    "import conflowgen\n",
    "\n",
    "conflowgen.__file__"
   ]
  },
  {
   "cell_type": "markdown",
   "id": "55e957d4-1637-4dde-8ed8-7c690b0a9914",
   "metadata": {},
   "source": [
    "## Initialization"
   ]
  },
  {
   "cell_type": "code",
   "execution_count": null,
   "id": "c51d34e7-cb06-4a3e-9d3e-e836b01e1062",
   "metadata": {},
   "outputs": [],
   "source": [
    "database_chooser = conflowgen.DatabaseChooser()\n",
    "database_chooser.create_new_sqlite_database(\":memory:\")\n",
    "conflowgen.setup_logger(\n",
    "    logging_directory=\"./data/logger\"\n",
    ")\n",
    "now = datetime.datetime.now()\n",
    "manager = conflowgen.ContainerFlowGenerationManager()\n",
    "manager.set_properties(\n",
    "    start_date=now,\n",
    "    end_date=now + datetime.timedelta(days=30)\n",
    ")"
   ]
  },
  {
   "cell_type": "markdown",
   "id": "00947f71-f19e-4207-863a-64bbf2f47961",
   "metadata": {},
   "source": [
    "## Run previews"
   ]
  },
  {
   "cell_type": "code",
   "execution_count": null,
   "id": "d9e73814-eebe-4da4-b6fb-11f0a5b1c4a9",
   "metadata": {},
   "outputs": [],
   "source": [
    "conflowgen.run_all_analyses(\n",
    "    as_text=True,\n",
    "    as_graph=True,\n",
    "    display_text_func=print,\n",
    ")"
   ]
  },
  {
   "cell_type": "markdown",
   "id": "557a5934-f433-4455-8375-63bb6618f27c",
   "metadata": {},
   "source": []
  }
 ],
 "metadata": {
  "kernelspec": {
   "display_name": "Python 3 (ipykernel)",
   "language": "python",
   "name": "python3"
  },
  "language_info": {
   "codemirror_mode": {
    "name": "ipython",
    "version": 3
   },
   "file_extension": ".py",
   "mimetype": "text/x-python",
   "name": "python",
   "nbconvert_exporter": "python",
   "pygments_lexer": "ipython3",
   "version": "3.9.7"
  }
 },
 "nbformat": 4,
 "nbformat_minor": 5
}
