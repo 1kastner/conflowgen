{
 "cells": [
  {
   "cell_type": "markdown",
   "id": "2f391753-748d-412f-984d-8a3d59331103",
   "metadata": {},
   "source": [
    "# Compare container dwell time distribution with results"
   ]
  },
  {
   "cell_type": "code",
   "execution_count": null,
   "id": "7d200737-a469-4e6b-94ac-6eacefe08297",
   "metadata": {},
   "outputs": [],
   "source": [
    "import os\n",
    "import sys\n",
    "\n",
    "import matplotlib.pyplot as plt\n",
    "import numpy as np\n",
    "\n",
    "path_to_conflowgen = os.path.abspath(\n",
    "    os.path.join(\n",
    "        os.pardir,  # notebooks\n",
    "        os.pardir,  # tests\n",
    "        os.pardir  # conflowgen\n",
    "    )\n",
    ")\n",
    "\n",
    "path_to_conflowgen"
   ]
  },
  {
   "cell_type": "markdown",
   "id": "e18789af-f19c-4cbc-946c-d9e0d48eea85",
   "metadata": {},
   "source": [
    "Load previously defined data."
   ]
  },
  {
   "cell_type": "code",
   "execution_count": null,
   "id": "0a40117f-b501-4dc1-b982-2948ad433c14",
   "metadata": {
    "tags": []
   },
   "outputs": [],
   "source": [
    "sys.path.insert(\n",
    "    0,\n",
    "    path_to_conflowgen\n",
    ")"
   ]
  },
  {
   "cell_type": "code",
   "execution_count": null,
   "id": "acbd2bce-deb2-4520-87f3-37676bd5f489",
   "metadata": {},
   "outputs": [],
   "source": [
    "import conflowgen\n",
    "\n",
    "conflowgen.__file__"
   ]
  },
  {
   "cell_type": "code",
   "execution_count": null,
   "id": "411a7192-756a-4392-8069-ca5dfe74753c",
   "metadata": {
    "scrolled": true,
    "tags": []
   },
   "outputs": [],
   "source": [
    "conflowgen.setup_logger(\n",
    "    logging_directory=\"./data/logger\",  # use subdirectory relative to Jupyter Notebook\n",
    ")\n",
    "\n",
    "database_chooser = conflowgen.DatabaseChooser(\n",
    "    sqlite_databases_directory=\"../../data/databases\"  # use subdirectory relative to Jupyter Notebook\n",
    ")"
   ]
  },
  {
   "cell_type": "markdown",
   "id": "bc5be0e8-fb25-4874-a1f7-f833d8d3a79a",
   "metadata": {},
   "source": [
    "Please make sure that you have previously run this demo file:\n",
    "\n",
    "```bash\n",
    "python ./examples/Python_Script/demo_continental_gateway.py\n",
    "```\n",
    "\n",
    "Only then, the following database entry should be available."
   ]
  },
  {
   "cell_type": "code",
   "execution_count": null,
   "id": "d3e7dd2e-1966-4a73-bcce-4f2e37a1a494",
   "metadata": {
    "scrolled": true,
    "tags": []
   },
   "outputs": [],
   "source": [
    "file_name = \"demo_continental_gateway.sqlite\"\n",
    "\n",
    "database_chooser.load_existing_sqlite_database(file_name)"
   ]
  },
  {
   "cell_type": "code",
   "execution_count": null,
   "id": "67308137-bb0a-451c-a1ba-59463fda09c4",
   "metadata": {},
   "outputs": [],
   "source": [
    "container_dwell_time_analysis_report = conflowgen.ContainerDwellTimeAnalysisReport()\n",
    "container_dwell_time_analysis = container_dwell_time_analysis_report.analysis"
   ]
  },
  {
   "cell_type": "markdown",
   "id": "d0b84a59-6504-461b-a1c6-55690a1ff5ad",
   "metadata": {},
   "source": [
    "## Container dwell time of standard containers"
   ]
  },
  {
   "cell_type": "code",
   "execution_count": null,
   "id": "3b78d78f-cd7e-4fd6-9da9-63784cac35e6",
   "metadata": {},
   "outputs": [],
   "source": [
    "container_dwell_time_distribution_manager = (\n",
    "    conflowgen.ContainerDwellTimeDistributionManager()\n",
    ")\n",
    "distributions = (\n",
    "    container_dwell_time_distribution_manager.get_container_dwell_time_distribution()\n",
    ")"
   ]
  },
  {
   "cell_type": "code",
   "execution_count": null,
   "id": "aac4ed0d-ef40-4284-9b8f-e786085c0167",
   "metadata": {},
   "outputs": [],
   "source": [
    "for inbound_vehicle_type in set(conflowgen.ModeOfTransport):\n",
    "    for outbound_vehicle_type in set(conflowgen.ModeOfTransport):\n",
    "        container_dwell_times = container_dwell_time_analysis.get_container_dwell_times(\n",
    "            container_delivered_by_vehicle_type=inbound_vehicle_type,\n",
    "            container_picked_up_by_vehicle_type=outbound_vehicle_type,\n",
    "            storage_requirement=conflowgen.StorageRequirement.standard,\n",
    "        )\n",
    "        if not container_dwell_times:\n",
    "            print(f\"No traffic from {inbound_vehicle_type} to {outbound_vehicle_type}\")\n",
    "            continue\n",
    "\n",
    "        distribution = distributions[inbound_vehicle_type][outbound_vehicle_type][\n",
    "            conflowgen.StorageRequirement.standard\n",
    "        ]\n",
    "\n",
    "        print(\n",
    "            f\"Traffic from {inbound_vehicle_type} to {outbound_vehicle_type}:\",\n",
    "            distribution,\n",
    "        )\n",
    "\n",
    "        fig, ax = plt.subplots()\n",
    "        ax1 = container_dwell_time_analysis_report.get_report_as_graph(\n",
    "            container_delivered_by_vehicle_type=inbound_vehicle_type,\n",
    "            container_picked_up_by_vehicle_type=outbound_vehicle_type,\n",
    "            storage_requirement=conflowgen.StorageRequirement.standard,\n",
    "        )\n",
    "\n",
    "        plt.axvline(distribution.minimum, color=\"dimgray\")\n",
    "        plt.axvline(distribution.maximum, color=\"dimgray\")\n",
    "        x = np.linspace(0, int(distribution.maximum), int(distribution.maximum))\n",
    "\n",
    "        x_in_range = x[\n",
    "            np.where((distribution.minimum < x) & (x < distribution.maximum))\n",
    "        ]\n",
    "\n",
    "        ax2 = ax1.twinx()\n",
    "\n",
    "        ax2.plot(\n",
    "            x_in_range,\n",
    "            distribution.get_probabilities(x_in_range),\n",
    "            color=\"gray\",\n",
    "            lw=5,\n",
    "            alpha=0.9,\n",
    "        )\n",
    "        plt.show()"
   ]
  },
  {
   "cell_type": "code",
   "execution_count": null,
   "id": "27dec033-27d8-4696-b712-5fa4775409eb",
   "metadata": {},
   "outputs": [],
   "source": [
    "text = container_dwell_time_analysis_report.get_report_as_text(\n",
    "    container_delivered_by_vehicle_type=conflowgen.ModeOfTransport.truck,\n",
    "    container_picked_up_by_vehicle_type=conflowgen.ModeOfTransport.feeder,\n",
    "    storage_requirement=conflowgen.StorageRequirement.standard,\n",
    ")\n",
    "print(text)"
   ]
  },
  {
   "cell_type": "code",
   "execution_count": null,
   "id": "0bb96152-908c-4103-9ef9-a869ca8f99a3",
   "metadata": {},
   "outputs": [],
   "source": [
    "distribution_truck_to_feeder = distributions[conflowgen.ModeOfTransport.truck][\n",
    "    conflowgen.ModeOfTransport.feeder\n",
    "][conflowgen.StorageRequirement.standard]\n",
    "\n",
    "distribution_truck_to_feeder"
   ]
  },
  {
   "cell_type": "code",
   "execution_count": null,
   "id": "b5c12b3b-eb64-4408-81e4-5a7ae2ba8c52",
   "metadata": {},
   "outputs": [],
   "source": [
    "text = container_dwell_time_analysis_report.get_report_as_text(\n",
    "    container_delivered_by_vehicle_type=conflowgen.ModeOfTransport.feeder,\n",
    "    container_picked_up_by_vehicle_type=conflowgen.ModeOfTransport.truck,\n",
    "    storage_requirement=conflowgen.StorageRequirement.standard,\n",
    ")\n",
    "print(text)"
   ]
  },
  {
   "cell_type": "code",
   "execution_count": null,
   "id": "5dcc70d2-c519-44eb-96f8-23c895ed3f81",
   "metadata": {},
   "outputs": [],
   "source": [
    "distribution_feeder_to_truck = distributions[conflowgen.ModeOfTransport.feeder][\n",
    "    conflowgen.ModeOfTransport.truck\n",
    "][conflowgen.StorageRequirement.standard]\n",
    "\n",
    "distribution_feeder_to_truck"
   ]
  },
  {
   "cell_type": "code",
   "execution_count": null,
   "id": "0e4da267-f732-48d8-a0e9-c6db15701af3",
   "metadata": {},
   "outputs": [],
   "source": [
    "database_chooser.close_current_connection()"
   ]
  },
  {
   "cell_type": "markdown",
   "id": "5f0caed6-de19-40f8-9e5b-0e2226b7b7f9",
   "metadata": {},
   "source": []
  }
 ],
 "metadata": {
  "kernelspec": {
   "display_name": "Python 3 (ipykernel)",
   "language": "python",
   "name": "python3"
  },
  "language_info": {
   "codemirror_mode": {
    "name": "ipython",
    "version": 3
   },
   "file_extension": ".py",
   "mimetype": "text/x-python",
   "name": "python",
   "nbconvert_exporter": "python",
   "pygments_lexer": "ipython3",
   "version": "3.10.1"
  }
 },
 "nbformat": 4,
 "nbformat_minor": 5
}
