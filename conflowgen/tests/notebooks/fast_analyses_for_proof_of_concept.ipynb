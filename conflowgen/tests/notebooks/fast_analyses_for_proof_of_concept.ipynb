{
 "cells": [
  {
   "cell_type": "markdown",
   "id": "8ae71614-f852-4f1c-8c93-357bf47ad9e7",
   "metadata": {},
   "source": [
    "# Detailed Analyses for CTA example"
   ]
  },
  {
   "cell_type": "code",
   "execution_count": null,
   "id": "35fa184c-5fce-4ae0-a242-687f9fc48d13",
   "metadata": {},
   "outputs": [],
   "source": [
    "import os\n",
    "import sys\n",
    "import datetime\n",
    "\n",
    "from IPython.display import Markdown, display"
   ]
  },
  {
   "cell_type": "code",
   "execution_count": null,
   "id": "946b924b-5f95-4795-8000-3c6e10b88da0",
   "metadata": {},
   "outputs": [],
   "source": [
    "path_to_conflowgen = os.path.abspath(\n",
    "    os.path.join(\n",
    "        os.pardir,  # notebooks\n",
    "        os.pardir,  # tests\n",
    "        os.pardir  # conflowgen\n",
    "    )\n",
    ")\n",
    "\n",
    "path_to_conflowgen"
   ]
  },
  {
   "cell_type": "code",
   "execution_count": null,
   "id": "97a0dcfa-fe86-4eef-9171-651e5b7010aa",
   "metadata": {},
   "outputs": [],
   "source": [
    "sys.path.insert(\n",
    "    0,\n",
    "    path_to_conflowgen\n",
    ")\n",
    "\n",
    "import conflowgen\n",
    "\n",
    "conflowgen.__file__"
   ]
  },
  {
   "cell_type": "code",
   "execution_count": null,
   "id": "7307dbc9-91a1-49a0-ab9e-13df7d5c38c8",
   "metadata": {},
   "outputs": [],
   "source": [
    "conflowgen.setup_logger(\n",
    "    logging_directory=\"./data/logger\",  # use data subdirectory relative to Jupyter Notebook\n",
    "    format_string=\"%(message)s\",  # only show log messages, no timestamps etc.\n",
    ")"
   ]
  },
  {
   "cell_type": "code",
   "execution_count": null,
   "id": "c4ead6b8-2d45-401a-b557-85cd9d9a720f",
   "metadata": {
    "scrolled": true,
    "tags": []
   },
   "outputs": [],
   "source": [
    "database_chooser = conflowgen.DatabaseChooser()\n",
    "\n",
    "database_chooser.load_existing_sqlite_database(\"demo_poc.sqlite\")  # use latest version"
   ]
  },
  {
   "cell_type": "markdown",
   "id": "3fb21ec7-6dee-499b-86a6-0c2ec3108614",
   "metadata": {},
   "source": [
    "## Run all analyses without restrictions"
   ]
  },
  {
   "cell_type": "code",
   "execution_count": null,
   "id": "8a47de90-5708-4bec-b8f4-3d8976e940bb",
   "metadata": {},
   "outputs": [],
   "source": [
    "conflowgen.run_all_analyses(\n",
    "    as_text=False,\n",
    "    as_graph=True,\n",
    "    display_text_func=lambda text: display(Markdown(text)),\n",
    "    display_in_markup_language=\"markdown\",\n",
    "    display_as_ipython_svg=True,\n",
    ")"
   ]
  },
  {
   "cell_type": "markdown",
   "id": "830262d9-a5cb-463b-9333-b13c823ab12c",
   "metadata": {},
   "source": [
    "## Run all analyses for time window in the past"
   ]
  },
  {
   "cell_type": "code",
   "execution_count": null,
   "id": "dfbdbbd5-a758-4fd7-95cf-521c27c4dbd1",
   "metadata": {},
   "outputs": [],
   "source": [
    "conflowgen.run_all_analyses(\n",
    "    as_text=True,\n",
    "    as_graph=True,\n",
    "    display_text_func=lambda text: display(Markdown(text)),\n",
    "    display_in_markup_language=\"markdown\",\n",
    "    display_as_ipython_svg=True,\n",
    "    start_date=datetime.datetime(1995, 7, 5),\n",
    "    end_date=datetime.datetime(1995, 7, 25)\n",
    ")"
   ]
  },
  {
   "cell_type": "code",
   "execution_count": null,
   "id": "2cb3b327-0270-41c0-9467-b98153e64b0a",
   "metadata": {},
   "outputs": [],
   "source": [
    "database_chooser.close_current_connection()"
   ]
  },
  {
   "cell_type": "markdown",
   "id": "68896732-e47c-497c-879e-2c4f8253f90a",
   "metadata": {},
   "source": []
  }
 ],
 "metadata": {
  "celltoolbar": "Raw Cell Format",
  "kernelspec": {
   "display_name": "Python 3 (ipykernel)",
   "language": "python",
   "name": "python3"
  },
  "language_info": {
   "codemirror_mode": {
    "name": "ipython",
    "version": 3
   },
   "file_extension": ".py",
   "mimetype": "text/x-python",
   "name": "python",
   "nbconvert_exporter": "python",
   "pygments_lexer": "ipython3",
   "version": "3.10.1"
  }
 },
 "nbformat": 4,
 "nbformat_minor": 5
}
