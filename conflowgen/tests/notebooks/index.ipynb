{
 "cells": [
  {
   "cell_type": "markdown",
   "id": "a763af19-c39d-41f5-8d7d-249e1bcd96d6",
   "metadata": {},
   "source": [
    "# Index\n",
    "\n",
    "This directory contains tests that are not automated.\n",
    "The Jupyter Notebooks generate graphics that need to be checked by individuals.\n",
    "After any major change in previews or analyses, please run these."
   ]
  }
 ],
 "metadata": {
  "kernelspec": {
   "display_name": "Python 3 (ipykernel)",
   "language": "python",
   "name": "python3"
  },
  "language_info": {
   "codemirror_mode": {
    "name": "ipython",
    "version": 3
   },
   "file_extension": ".py",
   "mimetype": "text/x-python",
   "name": "python",
   "nbconvert_exporter": "python",
   "pygments_lexer": "ipython3",
   "version": "3.9.7"
  }
 },
 "nbformat": 4,
 "nbformat_minor": 5
}
