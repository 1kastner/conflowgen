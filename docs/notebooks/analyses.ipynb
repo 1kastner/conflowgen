{
 "cells": [
  {
   "cell_type": "raw",
   "id": "7b6c1c97-b5ba-4e14-9055-c3fb902c72fa",
   "metadata": {
    "raw_mimetype": "text/restructuredtext",
    "tags": []
   },
   "source": [
    "Analyses\n",
    "--------\n",
    "\n",
    "Analyses are run after :meth:`.ContainerFlowGenerationManager.generate`.\n",
    "An analyses provides first insights on the actually generated data.\n",
    "They help to answer questions such as:\n",
    "\n",
    "#. Was the correct input data used?\n",
    "   Especially with a lot of input data, it might be tough to keep track of schedules and distributions.\n",
    "   Before using the generated data, cross-check the generated data with your input data.\n",
    "   Are the schedules honoured?\n",
    "   Do the empirical distributions in the generated data match your assumed distributions?\n",
    "\n",
    "#. Do the initial assumptions match?\n",
    "   It is tricky to assign containers to the vehicles on their outbound journey while adhering to distributions and operational constraints at the same time.\n",
    "   It is worthwhile comparing an analysis with its corresponding preview counterpart (if existent) to detect deviations between the two.\n",
    "   If they deviate largely and against your personal expectations, maybe the operational constraints need readjustment.\n",
    "\n",
    "#. Does the generated data correspond to your expectations?\n",
    "   Probably you used some of the default distributions and some you researched yourself.\n",
    "   You might want to cross-check the generated data with external data sources.\n",
    "   Only that way you can ensure that the data is plausible for the problem you wish to further investigate.\n",
    "\n",
    "Please be aware that, as stated in the license, ConFlowGen comes without any warranty.\n",
    "These analyses are only a first step, so please add your own analyses of the data.\n",
    "It is up to you to ensure that the generated data actually fits to your task at hand (such as, e.g. a simulation study).\n",
    "\n",
    "The steps are explained according to the database created by the\n",
    "`demo script serving as a Proof of Concept <https://github.com/1kastner/conflowgen/blob/main/demo/demo_poc.py/>`_ ,\n",
    "but you can still use any other ConFlowGen database."
   ]
  },
  {
   "cell_type": "code",
   "execution_count": null,
   "id": "35fa184c-5fce-4ae0-a242-687f9fc48d13",
   "metadata": {},
   "outputs": [],
   "source": [
    "from IPython.display import Markdown\n",
    "\n",
    "import conflowgen\n",
    "\n",
    "database_chooser = conflowgen.DatabaseChooser(\n",
    "    sqlite_databases_directory=\"./data/\"\n",
    ")\n",
    "database_chooser.load_existing_sqlite_database(\n",
    "    \"demo_poc.sqlite\"\n",
    ")"
   ]
  },
  {
   "cell_type": "markdown",
   "id": "f94fa0bb-a7c1-49fd-8999-33b7fc320b76",
   "metadata": {},
   "source": [
    "### Showing Analyses as Text\n",
    "\n",
    "For running all analyses, a convencience function exists.\n",
    "It can simply print all information to the standard output."
   ]
  },
  {
   "cell_type": "code",
   "execution_count": null,
   "id": "7170300b-a7a6-4a34-a8ec-375e4f756f6c",
   "metadata": {},
   "outputs": [],
   "source": [
    "conflowgen.run_all_analyses(\n",
    "    as_text=True,\n",
    "    display_text_func=print,\n",
    ")"
   ]
  },
  {
   "cell_type": "markdown",
   "id": "ce9c1444-aac7-4a13-b177-8177e3008215",
   "metadata": {},
   "source": [
    "### Displaying Analyses as Graphs\n",
    "\n",
    "Analyses can also be displayed as graphs.\n",
    "The depicted information contains the same information but might be easier to grasp.\n",
    "For emphasis, in the following the text version and graph version of the report are presented side-by-side.\n",
    "In addition, we also use the Markdown capabilities of the convenience function.\n",
    "This makes the presented analyses blend into the remaining content."
   ]
  },
  {
   "cell_type": "code",
   "execution_count": null,
   "id": "8a47de90-5708-4bec-b8f4-3d8976e940bb",
   "metadata": {},
   "outputs": [],
   "source": [
    "conflowgen.run_all_analyses(\n",
    "    as_text=True,\n",
    "    as_graph=True,\n",
    "    display_text_func=lambda text: display(Markdown(text)),\n",
    "    display_in_markup_language=\"markdown\",\n",
    "    static_graphs=True\n",
    ")"
   ]
  }
 ],
 "metadata": {
  "celltoolbar": "Raw Cell Format",
  "kernelspec": {
   "display_name": "Python 3 (ipykernel)",
   "language": "python",
   "name": "python3"
  },
  "language_info": {
   "codemirror_mode": {
    "name": "ipython",
    "version": 3
   },
   "file_extension": ".py",
   "mimetype": "text/x-python",
   "name": "python",
   "nbconvert_exporter": "python",
   "pygments_lexer": "ipython3",
   "version": "3.8.8"
  }
 },
 "nbformat": 4,
 "nbformat_minor": 5
}
