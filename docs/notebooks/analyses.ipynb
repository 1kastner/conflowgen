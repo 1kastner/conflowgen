{
 "cells": [
  {
   "cell_type": "raw",
   "id": "7b6c1c97-b5ba-4e14-9055-c3fb902c72fa",
   "metadata": {
    "raw_mimetype": "text/restructuredtext",
    "tags": []
   },
   "source": [
    "Analyses\n",
    "--------\n",
    "\n",
    "Analyses are run after :meth:`.ContainerFlowGenerationManager.generate`.\n",
    "An analyses provides first insights on the actually generated data.\n",
    "They help to answer questions such as:\n",
    "\n",
    "#. Was the correct input data used?\n",
    "   Especially with a lot of input data, it might be tough to keep track of schedules and distributions.\n",
    "   Before using the generated data, cross-check the generated data with your input data.\n",
    "   Are the schedules honoured?\n",
    "   Do the empirical distributions in the generated data match your assumed distributions?\n",
    "\n",
    "#. Do the initial assumptions match?\n",
    "   It is tricky to assign containers to the vehicles on their outbound journey while adhering to distributions and operational constraints at the same time.\n",
    "   It is worthwhile comparing an analysis with its corresponding preview counterpart (if existent) to detect deviations between the two.\n",
    "   If they deviate largely and against your personal expectations, maybe the operational constraints need readjustment.\n",
    "\n",
    "#. Does the generated data correspond to your expectations?\n",
    "   Probably you used some of the default distributions and some you researched yourself.\n",
    "   You might want to cross-check the generated data with external data sources.\n",
    "   Only that way you can ensure that the data is plausible for the problem you wish to further investigate.\n",
    "\n",
    "Please be aware that, as stated in the license, ConFlowGen comes without any warranty.\n",
    "These analyses are only a first step, so please add your own analyses of the data.\n",
    "It is up to you to ensure that the generated data actually fits to your task at hand (such as, e.g. a simulation study).\n",
    "\n",
    "The steps are explained according to the database created by the\n",
    "`demo script serving as a Proof of Concept <https://github.com/1kastner/conflowgen/blob/main/demo/demo_poc.py/>`_ ,\n",
    "but you can still use any other ConFlowGen database."
   ]
  },
  {
   "cell_type": "code",
   "execution_count": null,
   "id": "35fa184c-5fce-4ae0-a242-687f9fc48d13",
   "metadata": {},
   "outputs": [],
   "source": [
    "from IPython.display import Markdown\n",
    "\n",
    "import conflowgen\n",
    "\n",
    "database_chooser = conflowgen.DatabaseChooser(\n",
    "    sqlite_databases_directory=\"./data/\"\n",
    ")\n",
    "database_chooser.load_existing_sqlite_database(\n",
    "    \"demo_poc.sqlite\"\n",
    ")"
   ]
  },
  {
   "cell_type": "markdown",
   "id": "3a6a56f9-45ad-497d-a243-82d81130a7d7",
   "metadata": {},
   "source": [
    "### Instantiating an Analysis\n",
    "\n",
    "Each analysis is a standardized approach of how the data existent in the database is digested.\n",
    "The resulting objects are part of the API but it requires some programming to further work with them."
   ]
  },
  {
   "cell_type": "code",
   "execution_count": null,
   "id": "954cbac0-5a55-4696-9ab9-40743400f870",
   "metadata": {},
   "outputs": [],
   "source": [
    "inbound_and_outbound_vehicle_capacity_analysis = conflowgen.InboundAndOutboundVehicleCapacityAnalysis(\n",
    "    transportation_buffer=0.2\n",
    ")\n",
    "display(inbound_and_outbound_vehicle_capacity_analysis.get_inbound_capacity_of_vehicles())\n",
    "outbound_capacities = inbound_and_outbound_vehicle_capacity_analysis.get_outbound_capacity_of_vehicles()\n",
    "display(outbound_capacities.used)\n",
    "display(outbound_capacities.maximum)"
   ]
  },
  {
   "cell_type": "markdown",
   "id": "f6d36b65-745c-4be1-a17e-b947f196f133",
   "metadata": {
    "tags": []
   },
   "source": [
    "### Instantiating an Analysis Report\n",
    "\n",
    "The data structures returned by an analysis are further digestible by code.\n",
    "If you, however, prefer to have the data in a format nice to read, you might rather look for the report.\n",
    "For every analysis, a corresponding report exists.\n",
    "It auto-fills the parameters for the analysis with the data already stored in the database.\n",
    "Thus, we do not need to provide a `transportation_buffer`."
   ]
  },
  {
   "cell_type": "code",
   "execution_count": null,
   "id": "77bb4e71-db1e-4682-8e19-1e399491de2e",
   "metadata": {},
   "outputs": [],
   "source": [
    "analysis_report = conflowgen.InboundAndOutboundVehicleCapacityAnalysisReport()\n",
    "print(analysis_report.get_report_as_text())"
   ]
  },
  {
   "cell_type": "markdown",
   "id": "3635bb05-33f3-4092-a6ce-caf00366ad28",
   "metadata": {},
   "source": [
    "Instead of reading tables, one might prefer to see the data visualized.\n",
    "While there might be some reports for which the visualization and text slightly differ, in this case they correspond very nicely."
   ]
  },
  {
   "cell_type": "code",
   "execution_count": null,
   "id": "ec0fb6de-002c-4904-98eb-28bc9a292a52",
   "metadata": {},
   "outputs": [],
   "source": [
    "analysis_report.show_report_as_graph()"
   ]
  },
  {
   "cell_type": "raw",
   "id": "43a3246e-e5cc-49ae-a69b-f11f66f2f2c2",
   "metadata": {
    "raw_mimetype": "text/restructuredtext",
    "tags": []
   },
   "source": [
    "For more informaiton on this preview report, please check\n",
    ":class:`.InboundAndOutboundVehicleCapacityAnalysisReport`"
   ]
  },
  {
   "cell_type": "markdown",
   "id": "f94fa0bb-a7c1-49fd-8999-33b7fc320b76",
   "metadata": {},
   "source": [
    "### Showing Analyses as Text\n",
    "\n",
    "Following the approach sketched out above, you could generate every analysis report you are interested in.\n",
    "If you are interested in all of then, a convencience function exists.\n",
    "It can simply print all information to the standard output."
   ]
  },
  {
   "cell_type": "code",
   "execution_count": null,
   "id": "7170300b-a7a6-4a34-a8ec-375e4f756f6c",
   "metadata": {},
   "outputs": [],
   "source": [
    "conflowgen.run_all_analyses(\n",
    "    as_text=True,\n",
    "    display_text_func=print,\n",
    ")"
   ]
  },
  {
   "cell_type": "markdown",
   "id": "ce9c1444-aac7-4a13-b177-8177e3008215",
   "metadata": {},
   "source": [
    "### Displaying Analyses as Graphs\n",
    "\n",
    "Analyses can also be displayed as graphs.\n",
    "The depicted information contains the same information but might be easier to grasp.\n",
    "For emphasis, in the following the text version and graph version of the report are presented side-by-side.\n",
    "In addition, we also use the Markdown capabilities of the convenience function.\n",
    "This makes the presented analyses blend into the remaining content."
   ]
  },
  {
   "cell_type": "code",
   "execution_count": null,
   "id": "8a47de90-5708-4bec-b8f4-3d8976e940bb",
   "metadata": {},
   "outputs": [],
   "source": [
    "conflowgen.run_all_analyses(\n",
    "    as_text=True,\n",
    "    as_graph=True,\n",
    "    display_text_func=lambda text: display(Markdown(text)),\n",
    "    display_in_markup_language=\"markdown\",\n",
    "    static_graphs=True\n",
    ")"
   ]
  }
 ],
 "metadata": {
  "celltoolbar": "Raw Cell Format",
  "kernelspec": {
   "display_name": "Python 3 (ipykernel)",
   "language": "python",
   "name": "python3"
  },
  "language_info": {
   "codemirror_mode": {
    "name": "ipython",
    "version": 3
   },
   "file_extension": ".py",
   "mimetype": "text/x-python",
   "name": "python",
   "nbconvert_exporter": "python",
   "pygments_lexer": "ipython3",
   "version": "3.8.8"
  }
 },
 "nbformat": 4,
 "nbformat_minor": 5
}
