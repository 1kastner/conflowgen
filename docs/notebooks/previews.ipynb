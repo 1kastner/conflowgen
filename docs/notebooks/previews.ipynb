{
 "cells": [
  {
   "cell_type": "raw",
   "id": "7b6c1c97-b5ba-4e14-9055-c3fb902c72fa",
   "metadata": {
    "raw_mimetype": "text/restructuredtext",
    "tags": []
   },
   "source": [
    "Previews\n",
    "--------\n",
    "\n",
    "Previews are typically invoked before running the often time-consuming generation process triggered by\n",
    ":meth:`.ContainerFlowGenerationManager.generate`.\n",
    "A preview provides a first impression on what kind of data will be generated based on the input distributions and schedules.\n",
    "At this stage, some simplifications are made to actually save some time.\n",
    "Among others, no container instances are generated and operational constraints are neglected.\n",
    "The steps are explained according to the database created by the\n",
    "`demo script for CTA <https://github.com/1kastner/conflowgen/blob/main/demo/demo_DEHAM_CTA.py/>`_ ,\n",
    "but you can still use any other ConFlowGen database."
   ]
  },
  {
   "cell_type": "code",
   "execution_count": null,
   "id": "35fa184c-5fce-4ae0-a242-687f9fc48d13",
   "metadata": {},
   "outputs": [],
   "source": [
    "import datetime\n",
    "\n",
    "from IPython.display import Markdown\n",
    "import matplotlib\n",
    "import matplotlib.pyplot as plt\n",
    "\n",
    "import conflowgen\n",
    "\n",
    "database_chooser = conflowgen.DatabaseChooser(\n",
    "    sqlite_databases_directory=\"./data/\"  # use data subdirectory relative to Jupyter Notebook\n",
    ")\n",
    "database_chooser.load_existing_sqlite_database(\"demo_deham_cta.sqlite\")"
   ]
  },
  {
   "cell_type": "markdown",
   "id": "4b0363cc-8f8f-430c-8cae-8352cb98227f",
   "metadata": {},
   "source": [
    "### Instantiating a Preview\n",
    "\n",
    "Each preview is a standardized approach of how the data existent in the database is digested.\n",
    "The resulting objects are part of the API but it requires some programming to further work with them."
   ]
  },
  {
   "cell_type": "code",
   "execution_count": null,
   "id": "348ecc7c-7a09-4a5e-8c89-0100f757b2ca",
   "metadata": {},
   "outputs": [],
   "source": [
    "inbound_and_outbound_vehicle_capacity_preview = conflowgen.InboundAndOutboundVehicleCapacityPreview(\n",
    "    start_date=datetime.date(2021, 7, 1),\n",
    "    end_date=datetime.date(2021, 7, 31),\n",
    "    transportation_buffer=0.2\n",
    ")\n",
    "display(inbound_and_outbound_vehicle_capacity_preview.get_inbound_capacity_of_vehicles())\n",
    "outbound_capacities = inbound_and_outbound_vehicle_capacity_preview.get_outbound_capacity_of_vehicles()\n",
    "display(outbound_capacities.used)\n",
    "display(outbound_capacities.maximum)"
   ]
  },
  {
   "cell_type": "markdown",
   "id": "ef0f300a-4419-4d76-896e-9ef5ba74a954",
   "metadata": {
    "tags": []
   },
   "source": [
    "### Instantiating a Preview Report\n",
    "\n",
    "The data structures returned by a preview are further digestible by code.\n",
    "If you, however, prefer to have the data in a format nice to read, you might rather look for the report.\n",
    "For every preview, a corresponding report exists.\n",
    "It auto-fills the parameters for the preview with the data already stored in the database.\n",
    "Thus, we do not need to provide a `start_date`, `end_date`, or a `transportation_buffer`."
   ]
  },
  {
   "cell_type": "code",
   "execution_count": null,
   "id": "f9c85ee5-d247-4deb-82c3-85c6ca196af0",
   "metadata": {},
   "outputs": [],
   "source": [
    "preview_report = conflowgen.InboundAndOutboundVehicleCapacityPreviewReport()\n",
    "print(preview_report.get_report_as_text())"
   ]
  },
  {
   "cell_type": "markdown",
   "id": "9d13cba0-3dcf-4498-a15c-96393e6ad1a8",
   "metadata": {},
   "source": [
    "Instead of reading tables, one might prefer to see the data visualized.\n",
    "While there might be some reports for which the visualization and text slightly differ, in this case they correspond very nicely."
   ]
  },
  {
   "cell_type": "code",
   "execution_count": null,
   "id": "0884c828-7087-4fa2-bae2-111c6a950e89",
   "metadata": {},
   "outputs": [],
   "source": [
    "preview_report.show_report_as_graph()"
   ]
  },
  {
   "cell_type": "markdown",
   "id": "fb684878-036b-4ba3-b2d0-8e3fae05f694",
   "metadata": {},
   "source": [
    "Furthermore, there is also the option to obtain the graph as an object without it being plotted.\n",
    "This allows you to further manipulate the visuals according to your needs.\n",
    "Each report might return a different kind of object, so please check the documentation of the respective report."
   ]
  },
  {
   "cell_type": "code",
   "execution_count": null,
   "id": "5056543c-9e28-4715-a836-bdae94ef517e",
   "metadata": {},
   "outputs": [],
   "source": [
    "plt_ax = preview_report.get_report_as_graph()\n",
    "\n",
    "rectangles = list(filter(lambda x: isinstance(x, matplotlib.patches.Rectangle), plt_ax.get_children()))\n",
    "\n",
    "first_bar = rectangles[0]\n",
    "\n",
    "first_bar.set_color(\"black\")\n",
    "\n",
    "plt.show()"
   ]
  },
  {
   "cell_type": "raw",
   "id": "3c08a99a-71ff-48d7-a5ab-11b3597473e6",
   "metadata": {
    "raw_mimetype": "text/restructuredtext",
    "tags": []
   },
   "source": [
    "For more informaiton on this preview report, please check\n",
    ":class:`.InboundAndOutboundVehicleCapacityPreviewReport`.\n",
    "A list of all previews including their corresponding reports shipped with ConFlowGen is available at\n",
    ":ref:`Getting previews`."
   ]
  },
  {
   "cell_type": "markdown",
   "id": "f94fa0bb-a7c1-49fd-8999-33b7fc320b76",
   "metadata": {},
   "source": [
    "### Showing all Previews as Text\n",
    "\n",
    "Following the approach sketched out above, you could generate every preview report you are interested in.\n",
    "If you are interested in all of then, a convencience function exists.\n",
    "It can simply print all information to the standard output."
   ]
  },
  {
   "cell_type": "code",
   "execution_count": null,
   "id": "7170300b-a7a6-4a34-a8ec-375e4f756f6c",
   "metadata": {},
   "outputs": [],
   "source": [
    "conflowgen.run_all_previews(\n",
    "    as_text=True,\n",
    "    display_text_func=print,\n",
    ")"
   ]
  },
  {
   "cell_type": "markdown",
   "id": "ce9c1444-aac7-4a13-b177-8177e3008215",
   "metadata": {},
   "source": [
    "### Displaying Previews as Graphs\n",
    "\n",
    "The same is possible for the graph reports.\n",
    "For emphasis, in the following the text version and graph version of the report are presented side-by-side.\n",
    "In addition, we also use the Markdown capabilities of the convenience function.\n",
    "This makes the presented previews blend into the remaining content."
   ]
  },
  {
   "cell_type": "code",
   "execution_count": null,
   "id": "8a47de90-5708-4bec-b8f4-3d8976e940bb",
   "metadata": {},
   "outputs": [],
   "source": [
    "conflowgen.run_all_previews(\n",
    "    as_text=True,\n",
    "    as_graph=True,\n",
    "    display_text_func=lambda text: display(Markdown(text)),\n",
    "    display_in_markup_language=\"markdown\",\n",
    "    static_graphs=True\n",
    ")"
   ]
  },
  {
   "cell_type": "raw",
   "id": "bc188820-c6eb-4555-9a4b-ca463eaecc5c",
   "metadata": {
    "raw_mimetype": "text/restructuredtext",
    "tags": []
   },
   "source": [
    "Formulating Your Own Previews\n",
    "~~~~~~~~~~~~~~~~~~~~~~~~~~~~~\n",
    "\n",
    "A preview is a description of what the output is expected to look like before it is actually generated.\n",
    "Some previews are already shipped with ConFlowGen and more are planned in the future.\n",
    "If you have an idea for a preview that might be worth sharing, please have a look at\n",
    ":ref:`Contributing`.\n",
    "In addition, it is suggested to cross-check your expectations separately, e.g. by usind spreadsheets or simple pen and paper."
   ]
  }
 ],
 "metadata": {
  "celltoolbar": "Raw Cell Format",
  "kernelspec": {
   "display_name": "Python 3 (ipykernel)",
   "language": "python",
   "name": "python3"
  },
  "language_info": {
   "codemirror_mode": {
    "name": "ipython",
    "version": 3
   },
   "file_extension": ".py",
   "mimetype": "text/x-python",
   "name": "python",
   "nbconvert_exporter": "python",
   "pygments_lexer": "ipython3",
   "version": "3.8.8"
  }
 },
 "nbformat": 4,
 "nbformat_minor": 5
}
