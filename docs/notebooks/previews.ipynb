{
 "cells": [
  {
   "cell_type": "raw",
   "id": "7b6c1c97-b5ba-4e14-9055-c3fb902c72fa",
   "metadata": {
    "raw_mimetype": "text/restructuredtext",
    "tags": []
   },
   "source": [
    "Previews\n",
    "--------\n",
    "\n",
    "In this chapter, the previews are discussed.\n",
    "They are typically invoked before running the often time-consuming generation process triggered by\n",
    ":meth:`.ContainerFlowGenerationManager.generate`.\n",
    "A preview creates a first impression on what kind of data will be generated based on the input distributions and schedules.\n",
    "At this stage, some simplifications are made to actually save some time.\n",
    "Among others, no container instances are generated and operational constraints are neglected."
   ]
  },
  {
   "cell_type": "markdown",
   "id": "5036a502-759e-47ff-947f-97a3d2a14622",
   "metadata": {},
   "source": [
    "First, the required libraries are imported."
   ]
  },
  {
   "cell_type": "code",
   "execution_count": null,
   "id": "35fa184c-5fce-4ae0-a242-687f9fc48d13",
   "metadata": {},
   "outputs": [],
   "source": [
    "import datetime\n",
    "import matplotlib.pyplot as plt\n",
    "\n",
    "from IPython.display import Markdown\n",
    "\n",
    "import conflowgen"
   ]
  },
  {
   "cell_type": "markdown",
   "id": "08ce369e-319f-4e5a-aaa7-fd38a313d7e4",
   "metadata": {},
   "source": [
    "Next, the database `demo_deham_cta.sqlite` is opened.\n",
    "It is the product of executing the demo script\n",
    "[demo_DEHAM_CTA.py](https://github.com/1kastner/conflowgen/blob/main/demo/demo_DEHAM_CTA.py)."
   ]
  },
  {
   "cell_type": "code",
   "execution_count": null,
   "id": "a5fe2e34-0e9d-4bee-a888-bb6b81f67e08",
   "metadata": {},
   "outputs": [],
   "source": [
    "database_chooser = conflowgen.DatabaseChooser(\n",
    "    sqlite_databases_directory=\"./data/\"\n",
    ")\n",
    "database_chooser.load_existing_sqlite_database(\"demo_deham_cta.sqlite\")"
   ]
  },
  {
   "cell_type": "raw",
   "id": "92d6d3a4-8f0a-4e94-bae9-d79f4d8dc0b2",
   "metadata": {
    "raw_mimetype": "text/restructuredtext",
    "tags": []
   },
   "source": [
    "If you do not want to open an existing database but instead you want to create the data yourself step-by-step,\n",
    "have a look at\n",
    "`the demo <../demo.rst>`_."
   ]
  },
  {
   "cell_type": "markdown",
   "id": "f94fa0bb-a7c1-49fd-8999-33b7fc320b76",
   "metadata": {},
   "source": [
    "### Showing Previews as Text\n",
    "\n",
    "For running all previews, a convencience function exists.\n",
    "It can simply print all information to the standard output."
   ]
  },
  {
   "cell_type": "code",
   "execution_count": null,
   "id": "7170300b-a7a6-4a34-a8ec-375e4f756f6c",
   "metadata": {},
   "outputs": [],
   "source": [
    "conflowgen.run_all_previews(\n",
    "    as_text=True,\n",
    "    display_text_func=print,\n",
    ")"
   ]
  },
  {
   "cell_type": "markdown",
   "id": "ce9c1444-aac7-4a13-b177-8177e3008215",
   "metadata": {},
   "source": [
    "### Displaying Previews as Graphs\n",
    "\n",
    "Previews can also be displayed as graphs.\n",
    "The depicted information contains the same information but might be easier to grasp.\n",
    "For emphasis, in the following the text version and graph version of the report are presented side-by-side.\n",
    "In addition, we also use the Markdown capabilities of the convenience function.\n",
    "This makes the presented previews blend into the remaining content."
   ]
  },
  {
   "cell_type": "code",
   "execution_count": null,
   "id": "8a47de90-5708-4bec-b8f4-3d8976e940bb",
   "metadata": {},
   "outputs": [],
   "source": [
    "conflowgen.run_all_previews(\n",
    "    as_text=True,\n",
    "    as_graph=True,\n",
    "    display_text_func=lambda text : display(Markdown(text)),\n",
    "    display_in_markup_language=\"markdown\",\n",
    "    static_graphs=True\n",
    ")"
   ]
  }
 ],
 "metadata": {
  "celltoolbar": "Raw Cell Format",
  "kernelspec": {
   "display_name": "Python 3 (ipykernel)",
   "language": "python",
   "name": "python3"
  },
  "language_info": {
   "codemirror_mode": {
    "name": "ipython",
    "version": 3
   },
   "file_extension": ".py",
   "mimetype": "text/x-python",
   "name": "python",
   "nbconvert_exporter": "python",
   "pygments_lexer": "ipython3",
   "version": "3.8.8"
  }
 },
 "nbformat": 4,
 "nbformat_minor": 5
}
