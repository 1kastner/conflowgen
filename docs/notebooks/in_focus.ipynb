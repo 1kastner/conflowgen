{
 "cells": [
  {
   "cell_type": "markdown",
   "id": "d746cfe2-cfd6-4286-8ab2-872e45c1546f",
   "metadata": {},
   "source": [
    "# In Focus\n",
    "\n",
    "In this chapter, selected aspects of the\n",
    "[Data Generation Process](../background.rst#data-generation-process)\n",
    "are explained on a more detailled level and supported by visuals.\n",
    "In this scope, some internal functions and methods are imported that are not part of the official interface."
   ]
  },
  {
   "cell_type": "code",
   "execution_count": null,
   "id": "2822c10c-6094-4548-b16f-34a39fb55c4d",
   "metadata": {},
   "outputs": [],
   "source": [
    "import datetime\n",
    "import pandas as pd\n",
    "import matplotlib.pyplot as plt\n",
    "import conflowgen"
   ]
  },
  {
   "cell_type": "markdown",
   "id": "29482d8a-18ff-4803-b5cd-ce77c15dd920",
   "metadata": {},
   "source": [
    "Load some internal classes and functions that are not part of the regular API."
   ]
  },
  {
   "cell_type": "code",
   "execution_count": null,
   "id": "b362f514-570f-4145-87a9-e2eedf96d77f",
   "metadata": {},
   "outputs": [],
   "source": [
    "from conflowgen.domain_models.container import Container\n",
    "from conflowgen.tools.theoretical_distribution import multiply_discretized_probability_densities"
   ]
  },
  {
   "cell_type": "markdown",
   "id": "36fd2e90-caf6-4477-bb69-cbe42348a1cd",
   "metadata": {},
   "source": [
    "Initialize ConFlowGen."
   ]
  },
  {
   "cell_type": "code",
   "execution_count": null,
   "id": "8733896f-a6cc-4cd9-9246-74e4f79c0d3e",
   "metadata": {},
   "outputs": [],
   "source": [
    "logger = conflowgen.setup_logger(\n",
    "    logging_directory=\"./data/logger\",  # use subdirectory relative to Jupyter Notebook\n",
    "    format_string=\"%(message)s\"  # only show log messages, discard timestamp etc.\n",
    ")\n",
    "database_chooser = conflowgen.DatabaseChooser()\n",
    "database_chooser.create_new_sqlite_database(\":memory:\")"
   ]
  },
  {
   "cell_type": "markdown",
   "id": "cb0706b3-38ac-4f57-bda6-2900a966c154",
   "metadata": {},
   "source": [
    "## Considering both truck arrival and container dwell time distribution\n",
    "\n",
    "It is a challenge to synthetically generate container flows that take both distributions into account.\n",
    "If, for instance, a container is delivered to the container terminal by a vessel and a truck is to be generated to pick up the container, two naive approaches exist.\n",
    "First, a truck arrival time might be drawn from the truck arrival distribution.\n",
    "This, e.g., ensures that no truck arrivals happen on a Sunday.\n",
    "However, only considering the truck arrival distribution means that the container dwell time distribution is ignored.\n",
    "Second, the container dwell time distribution might be picked to draw the arrival of the truck.\n",
    "This ensures that the container dwell times are realistic.\n",
    "At the same time, the truck arrival patterns are ignored.\n",
    "This shows that both distributions must be somehow integrated at the same time."
   ]
  },
  {
   "cell_type": "markdown",
   "id": "5c0ffce8-669a-4821-8cde-149bb3f8b44c",
   "metadata": {},
   "source": [
    "Prepare the container that arrives at the terminal with a deep sea vessel and departs with a truck"
   ]
  },
  {
   "cell_type": "code",
   "execution_count": null,
   "id": "852dea38-b137-4171-a566-b7a05a7c1991",
   "metadata": {},
   "outputs": [],
   "source": [
    "container = Container.create(\n",
    "    weight=20,\n",
    "    delivered_by=conflowgen.ModeOfTransport.deep_sea_vessel,\n",
    "    picked_up_by=conflowgen.ModeOfTransport.truck,\n",
    "    picked_up_by_initial=conflowgen.ModeOfTransport.truck,\n",
    "    length=conflowgen.ContainerLength.twenty_feet,\n",
    "    storage_requirement=conflowgen.StorageRequirement.standard\n",
    ")\n",
    "container_arrival_time = datetime.datetime.now().replace(second=0, microsecond=0)\n",
    "\n",
    "print(f\"The container arrives at the terminal at {container_arrival_time.isoformat()}\")"
   ]
  },
  {
   "cell_type": "code",
   "execution_count": null,
   "id": "8fa88c99-85ae-4089-802a-423e7022ba7d",
   "metadata": {},
   "outputs": [],
   "source": [
    "earliest_truck_time_slot = container_arrival_time.replace(minute=0) + datetime.timedelta(hours=1)\n",
    "print(f\"The earliest available truck time slot is {earliest_truck_time_slot.isoformat()}\")"
   ]
  },
  {
   "cell_type": "markdown",
   "id": "b818cb33-a570-4106-8746-28fb44539d95",
   "metadata": {},
   "source": [
    "Load the two distributions that fit the container charateristics."
   ]
  },
  {
   "cell_type": "code",
   "execution_count": null,
   "id": "e7838f5b-3015-4324-a1ca-36347b4dbcc2",
   "metadata": {},
   "outputs": [],
   "source": [
    "manager = conflowgen.flow_generator.truck_for_import_containers_manager.TruckForImportContainersManager()\n",
    "manager.reload_distributions()\n",
    "container_dwell_time_distribution, truck_arrival_distribution = manager._get_distributions(container)\n",
    "\n",
    "print(container_dwell_time_distribution)\n",
    "print(truck_arrival_distribution)"
   ]
  },
  {
   "cell_type": "markdown",
   "id": "97bddf09-b5ee-4a9a-8054-387fb5dd4c5c",
   "metadata": {},
   "source": [
    "Now the truck arrival distribution is converted to a distribution that reflects the probability that the container is picked up at a given time.\n",
    "While the truck arrival distribution only covers a work week, the derived distribution must cover the whole time range from the time the container has arrived at the terminal until the point that is determined as the maximum dwell time.\n",
    "This time range is often longer than a week."
   ]
  },
  {
   "cell_type": "code",
   "execution_count": null,
   "id": "7f55e947-17f4-4cef-9ee0-2be2e53b71e0",
   "metadata": {},
   "outputs": [],
   "source": [
    "truck_arrival_distribution_slice = truck_arrival_distribution.get_distribution_slice(earliest_truck_time_slot)\n",
    "\n",
    "truck_arrival_distribution_slice_as_dates = {\n",
    "    earliest_truck_time_slot + datetime.timedelta(hours=hours_from_now): fraction * 100\n",
    "    for hours_from_now, fraction in truck_arrival_distribution_slice.items()\n",
    "}\n",
    "\n",
    "df_truck_arrival_distribution = \\\n",
    "    pd.Series(truck_arrival_distribution_slice_as_dates).to_frame(\"Truck Arrival Distribution\")\n",
    "\n",
    "df_truck_arrival_distribution.plot(legend=False)\n",
    "plt.ylabel(\"Probability (as percentage overall)\")\n",
    "plt.show()"
   ]
  },
  {
   "cell_type": "markdown",
   "id": "1f2ee669-3777-4d75-bf5d-b72cbffc0b7f",
   "metadata": {},
   "source": [
    "After having loaded the truck arrival distribution, now it is time to turn to the container dwell time distribution.\n",
    "It assigns a probability of the container being picked up to any suggested time slot.time_windows_for_truck_arrival"
   ]
  },
  {
   "cell_type": "code",
   "execution_count": null,
   "id": "23cbf1b5-6df2-4bb6-ae5c-085d78c18288",
   "metadata": {},
   "outputs": [],
   "source": [
    "time_windows_for_truck_arrival = list(truck_arrival_distribution_slice.keys())\n",
    "container_dwell_time_probabilities = container_dwell_time_distribution.get_probabilities(\n",
    "    time_windows_for_truck_arrival\n",
    ")\n",
    "\n",
    "container_dwell_time_probabilities_as_dates = {\n",
    "    earliest_truck_time_slot + datetime.timedelta(hours=hours_from_now): fraction * 100\n",
    "    for hours_from_now, fraction in enumerate(container_dwell_time_probabilities)\n",
    "}\n",
    "\n",
    "df_container_dwell_time_distribution = \\\n",
    "    pd.Series(container_dwell_time_probabilities_as_dates).to_frame(\"Container Dwell Time Distribution\")\n",
    "\n",
    "df_container_dwell_time_distribution.plot(legend=False)\n",
    "plt.ylabel(\"Probability (as percentage overall)\")\n",
    "plt.show()"
   ]
  },
  {
   "cell_type": "markdown",
   "id": "d573c2ed-828d-41c4-85d4-d9cc2e9fd553",
   "metadata": {},
   "source": [
    "In the last step, the two distributions are merged by multiplication."
   ]
  },
  {
   "cell_type": "code",
   "execution_count": null,
   "id": "bc11a695-5cb4-4510-92b9-c475a235b433",
   "metadata": {},
   "outputs": [],
   "source": [
    "merged_distribution = multiply_discretized_probability_densities(\n",
    "    list(truck_arrival_distribution_slice.values()),\n",
    "    container_dwell_time_probabilities\n",
    ")\n",
    "\n",
    "merged_distribution_as_dates = {\n",
    "    earliest_truck_time_slot + datetime.timedelta(hours=hours_from_now): fraction * 100\n",
    "    for hours_from_now, fraction in enumerate(merged_distribution)\n",
    "}\n",
    "\n",
    "df_merged_distributions = \\\n",
    "    pd.Series(merged_distribution_as_dates).to_frame(\"Multiplication of Both Distributions\")\n",
    "\n",
    "df_merged_distributions.plot(legend=False)\n",
    "plt.ylabel(\"Probability (as percentage overall)\")\n",
    "plt.show()"
   ]
  },
  {
   "cell_type": "markdown",
   "id": "d649aa32-e40e-49b2-bb90-bced610022ec",
   "metadata": {},
   "source": [
    "Let's re-check how the multiplication of the two distributions affected the merged distribution."
   ]
  },
  {
   "cell_type": "code",
   "execution_count": null,
   "id": "76a35107-5732-4a53-a2da-93475e76763e",
   "metadata": {},
   "outputs": [],
   "source": [
    "df_merged = pd.concat([\n",
    "    df_truck_arrival_distribution,\n",
    "    df_container_dwell_time_distribution,\n",
    "    df_merged_distributions\n",
    "], axis=1)\n",
    "\n",
    "ax = df_merged[[\"Container Dwell Time Distribution\", \"Truck Arrival Distribution\"]].plot(\n",
    "    color={\n",
    "        \"Truck Arrival Distribution\": \"navy\",\n",
    "        \"Container Dwell Time Distribution\": \"dimgray\",\n",
    "    },\n",
    "    alpha=0.5,\n",
    "    style=\"--\"\n",
    ")\n",
    "df_merged[[\"Multiplication of Both Distributions\"]].plot(ax=ax, alpha=1, color=\"k\")\n",
    "plt.show()"
   ]
  },
  {
   "cell_type": "markdown",
   "id": "60af3649-89da-4f30-b82b-79c6e1b8e8ba",
   "metadata": {},
   "source": [
    "The multiplication of the two distributions clearly leads to a new distribution that will help to approximate both the container dwell time distribution and the truck arrival distribution likewise."
   ]
  },
  {
   "cell_type": "markdown",
   "id": "f8d19d87-f903-4f31-a0de-7204387af67f",
   "metadata": {},
   "source": [
    "## Further topics\n",
    "\n",
    "If you have a topic in mind that should be presented step-by-step like the previous one, please reach out to https://github.com/1kastner/conflowgen/issues or write a mail directly to marvin.kastner@tuhh.de."
   ]
  }
 ],
 "metadata": {
  "kernelspec": {
   "display_name": "Python 3 (ipykernel)",
   "language": "python",
   "name": "python3"
  },
  "language_info": {
   "codemirror_mode": {
    "name": "ipython",
    "version": 3
   },
   "file_extension": ".py",
   "mimetype": "text/x-python",
   "name": "python",
   "nbconvert_exporter": "python",
   "pygments_lexer": "ipython3",
   "version": "3.9.7"
  }
 },
 "nbformat": 4,
 "nbformat_minor": 5
}
