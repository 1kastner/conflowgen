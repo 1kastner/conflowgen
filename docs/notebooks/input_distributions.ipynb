{
 "cells": [
  {
   "cell_type": "markdown",
   "id": "07456c75-42fa-4e85-b837-8a4299999d21",
   "metadata": {},
   "source": [
    "# Input Distributions\n",
    "\n",
    "In this chapter, the default input distributions are presented.\n",
    "These are automatically seeded when a new database is created.\n",
    "They can be simply overwritten with your use-case specific assumptions."
   ]
  },
  {
   "cell_type": "markdown",
   "id": "ed1eb6b8-1b8e-4257-bc97-c7bcd36eefa6",
   "metadata": {},
   "source": [
    "First, the required libraries are imported."
   ]
  },
  {
   "cell_type": "code",
   "execution_count": null,
   "id": "35fa184c-5fce-4ae0-a242-687f9fc48d13",
   "metadata": {},
   "outputs": [],
   "source": [
    "import datetime\n",
    "import matplotlib.pyplot as plt\n",
    "import conflowgen"
   ]
  },
  {
   "cell_type": "markdown",
   "id": "08ce369e-319f-4e5a-aaa7-fd38a313d7e4",
   "metadata": {},
   "source": [
    "Next, an\n",
    "[in-memory SQLite database](https://www.sqlite.org/inmemorydb.html)\n",
    "is opened.\n",
    "This is a fresh database without any content.\n",
    "While creating the database, it is automatically seeded with the default values."
   ]
  },
  {
   "cell_type": "code",
   "execution_count": null,
   "id": "a5fe2e34-0e9d-4bee-a888-bb6b81f67e08",
   "metadata": {},
   "outputs": [],
   "source": [
    "database_chooser = conflowgen.DatabaseChooser()\n",
    "database_chooser.create_new_sqlite_database(\":memory:\")"
   ]
  },
  {
   "cell_type": "markdown",
   "id": "85d86600-0b70-4a09-beba-2f3a6ecc915f",
   "metadata": {},
   "source": [
    "If that was too fast, you can switch on logging to have a look behind the scenes.\n",
    "The logger is registered under the name of the module."
   ]
  },
  {
   "cell_type": "code",
   "execution_count": null,
   "id": "193b9742-ae07-4e93-8595-f8c1c6d5d11e",
   "metadata": {},
   "outputs": [],
   "source": [
    "import sys\n",
    "import logging\n",
    "logger = logging.getLogger(\"conflowgen\")\n",
    "logger.setLevel(logging.DEBUG)\n",
    "handler = logging.StreamHandler(stream=sys.stdout)\n",
    "handler.setLevel(logging.DEBUG)\n",
    "logger.addHandler(handler)"
   ]
  },
  {
   "cell_type": "markdown",
   "id": "82258968-a3df-4e8d-8940-10e6772a95c8",
   "metadata": {},
   "source": [
    "Now you can see the same output like in the demo scripts."
   ]
  },
  {
   "cell_type": "code",
   "execution_count": null,
   "id": "63c7b5bb-8e54-48d5-bb13-c0adc28df33f",
   "metadata": {
    "tags": []
   },
   "outputs": [],
   "source": [
    "database_chooser.create_new_sqlite_database(\":memory:\")"
   ]
  },
  {
   "cell_type": "markdown",
   "id": "89b826ce-df9c-4782-bd61-7265bc1a679b",
   "metadata": {},
   "source": [
    "Once the database is set up, we can use the different distribution managers to have a look at the distributions which were automatically seeded."
   ]
  },
  {
   "cell_type": "markdown",
   "id": "97040c59-fcf7-4e5d-bb36-9ae052e7ec63",
   "metadata": {},
   "source": [
    "## Container Length Distribution\n",
    "\n",
    "For each container length, the container length distribution determines its frequency among the containers.\n",
    "The numbers have been determined by the following reasoning:"
   ]
  },
  {
   "cell_type": "raw",
   "id": "b1f7e7ba-e454-40bb-844b-5a4d3e37fd28",
   "metadata": {
    "raw_mimetype": "text/restructuredtext",
    "tags": []
   },
   "source": [
    ".. note::\n",
    "    .. autodata:: conflowgen.domain_models.distribution_seeders.container_length_distribution_seeder.DEFAULT_CONTAINER_LENGTH_FREQUENCIES"
   ]
  },
  {
   "cell_type": "markdown",
   "id": "799e4da9-e531-4fee-8285-1c3c5bc26e52",
   "metadata": {},
   "source": [
    "The container length distribution is obtained with the following lines of code:"
   ]
  },
  {
   "cell_type": "code",
   "execution_count": null,
   "id": "68469615-7d7f-4f30-a410-66faf5c7d05b",
   "metadata": {},
   "outputs": [],
   "source": [
    "container_length_manager = conflowgen.ContainerLengthDistributionManager()\n",
    "\n",
    "length_distribution = container_length_manager.get_container_length_distribution()\n",
    "\n",
    "length_distribution"
   ]
  },
  {
   "cell_type": "raw",
   "id": "f9f1e548",
   "metadata": {
    "raw_mimetype": "text/restructuredtext"
   },
   "source": [
    "We can see that all the keys are enum values of the enum\n",
    ":class:`.ContainerLength`.\n",
    "For a nicer visualization, we can circumvent that by converting the enum values into strings."
   ]
  },
  {
   "cell_type": "code",
   "execution_count": null,
   "id": "1885b94a-fa39-4d57-b2b4-050c39b6ac27",
   "metadata": {},
   "outputs": [],
   "source": [
    "length_distribution_with_key_as_str = {\n",
    "    str(key): value\n",
    "    for (key, value) in length_distribution.items()\n",
    "}\n",
    "\n",
    "length_distribution_with_key_as_str"
   ]
  },
  {
   "cell_type": "markdown",
   "id": "c8349e97-9e68-48e4-80c3-7e90d0c076f0",
   "metadata": {},
   "source": [
    "Now we can also plot the same information as a pie chart."
   ]
  },
  {
   "cell_type": "code",
   "execution_count": null,
   "id": "15913868-8008-464a-a65d-3d6ac8a1e843",
   "metadata": {},
   "outputs": [],
   "source": [
    "length_distribution_with_key_as_str_without_zeros = {\n",
    "    key: value\n",
    "    for (key, value) in length_distribution_with_key_as_str.items()\n",
    "    if value > 0\n",
    "}\n",
    "\n",
    "plt.title(\"Frequency of container lengths\")\n",
    "plt.pie(\n",
    "    list(length_distribution_with_key_as_str_without_zeros.values()),\n",
    "    labels=list(length_distribution_with_key_as_str_without_zeros.keys())\n",
    ")\n",
    "plt.gcf().set_size_inches(5, 5)\n",
    "plt.show()"
   ]
  },
  {
   "cell_type": "raw",
   "id": "ca64224b",
   "metadata": {
    "raw_mimetype": "text/restructuredtext"
   },
   "source": [
    "More information on setting and getting the distribution can be found at\n",
    ":class:`.ContainerLengthDistributionManager`."
   ]
  },
  {
   "cell_type": "markdown",
   "id": "90eb47a7",
   "metadata": {},
   "source": [
    "## Container Weight Distribution\n",
    "\n",
    "The container weight of each container is drawn from a distribution.\n",
    "For each container length, a different weight distribution can be provided."
   ]
  },
  {
   "cell_type": "raw",
   "id": "f0b638cd",
   "metadata": {
    "raw_mimetype": "text/restructuredtext"
   },
   "source": [
    ".. note::\n",
    "    .. autodata:: conflowgen.domain_models.distribution_seeders.container_weight_distribution_seeder.DEFAULT_CONTAINER_WEIGHT_DISTRIBUTION"
   ]
  },
  {
   "cell_type": "code",
   "execution_count": null,
   "id": "77e7df00",
   "metadata": {},
   "outputs": [],
   "source": [
    "container_weight_distribution_manager = conflowgen.ContainerWeightDistributionManager()\n",
    "\n",
    "weight_distribution = container_weight_distribution_manager.get_container_weight_distribution()\n",
    "\n",
    "weight_distribution"
   ]
  },
  {
   "cell_type": "markdown",
   "id": "e6118fc5",
   "metadata": {},
   "source": [
    "The container weight distributions can only be overwritten all at once.\n",
    "The values are automatically normalized by default."
   ]
  },
  {
   "cell_type": "code",
   "execution_count": null,
   "id": "59e56289",
   "metadata": {},
   "outputs": [],
   "source": [
    "container_weight_distribution_manager.set_container_weight_distribution(\n",
    "    {\n",
    "        conflowgen.ContainerLength.twenty_feet: {\n",
    "            10: 20,\n",
    "            20: 50,\n",
    "            30: 30\n",
    "        },\n",
    "        conflowgen.ContainerLength.forty_feet: {\n",
    "            10: 15,\n",
    "            20: 50,\n",
    "            30: 35\n",
    "        },\n",
    "        conflowgen.ContainerLength.forty_five_feet: {\n",
    "            10: 10,\n",
    "            20: 5,\n",
    "            30: 85\n",
    "        },\n",
    "        conflowgen.ContainerLength.other: {\n",
    "            10: 1,\n",
    "            20: 1,\n",
    "            30: 1\n",
    "        }\n",
    "    }\n",
    ")"
   ]
  },
  {
   "cell_type": "markdown",
   "id": "f37a2998",
   "metadata": {},
   "source": [
    "From now on, ConFlowGen uses the new container weight distribution:"
   ]
  },
  {
   "cell_type": "code",
   "execution_count": null,
   "id": "bccbdebf",
   "metadata": {},
   "outputs": [],
   "source": [
    "container_weight_distribution_manager.get_container_weight_distribution()"
   ]
  },
  {
   "cell_type": "raw",
   "id": "43ed1407",
   "metadata": {
    "raw_mimetype": "text/restructuredtext"
   },
   "source": [
    "More information on setting and getting the distribution can be found at\n",
    ":class:`.ContainerWeightDistributionManager`."
   ]
  },
  {
   "cell_type": "markdown",
   "id": "60afb2c6-a1c9-435a-92f7-b942bc072314",
   "metadata": {},
   "source": [
    "## Default Values\n",
    "\n",
    "In addition to the input distributions, also some default values are defined.\n",
    "All of them are currently some kind of minimum or maximum value.\n",
    "Thus, they directly influence other distributions."
   ]
  },
  {
   "cell_type": "raw",
   "id": "52264b18-e29c-4395-a899-4a391f1ad498",
   "metadata": {
    "raw_mimetype": "text/restructuredtext",
    "tags": []
   },
   "source": [
    ".. note::\n",
    "    .. autodata:: conflowgen.domain_models.seeders.DEFAULT_MAXIMUM_DWELL_TIME_OF_IMPORT_CONTAINERS_IN_HOURS\n",
    "    .. autodata:: conflowgen.domain_models.seeders.DEFAULT_MINIMUM_DWELL_TIME_OF_IMPORT_CONTAINERS_IN_HOURS\n",
    "    .. autodata:: conflowgen.domain_models.seeders.DEFAULT_MAXIMUM_DWELL_TIME_OF_EXPORT_CONTAINERS_IN_HOURS\n",
    "    .. autodata:: conflowgen.domain_models.seeders.DEFAULT_MINIMUM_DWELL_TIME_OF_EXPORT_CONTAINERS_IN_HOURS\n",
    "    .. autodata:: conflowgen.domain_models.seeders.DEFAULT_MAXIMUM_DWELL_TIME_OF_TRANSSHIPMENT_CONTAINERS_IN_HOURS\n",
    "    .. autodata:: conflowgen.domain_models.seeders.DEFAULT_MINIMUM_DWELL_TIME_OF_TRANSSHIPMENT_CONTAINERS_IN_HOURS\n",
    "    .. autodata:: conflowgen.domain_models.seeders.DEFAULT_TRANSPORTATION_BUFFER\n",
    "\n",
    "The default values can be overwritten with the help of :meth:`.ContainerFlowGenerationManager.set_properties`."
   ]
  },
  {
   "cell_type": "code",
   "execution_count": null,
   "id": "9dffd81e-453a-4020-be20-5ae486b7f196",
   "metadata": {},
   "outputs": [],
   "source": [
    "container_flow_generation_manager = conflowgen.ContainerFlowGenerationManager()\n",
    "container_flow_generation_manager.get_properties()"
   ]
  },
  {
   "cell_type": "markdown",
   "id": "92aa124e-eebc-463d-9701-817c0613829c",
   "metadata": {},
   "source": [
    "All default values are optional.\n",
    "They are only overwritten if provided.\n",
    "The parameters `start_date` and `end_date` are obligatory though."
   ]
  },
  {
   "cell_type": "code",
   "execution_count": null,
   "id": "e403f077-5f10-4527-9da4-7828504a5367",
   "metadata": {},
   "outputs": [],
   "source": [
    "container_flow_generation_manager.set_properties(\n",
    "    start_date=datetime.date(2021, 1, 15),\n",
    "    end_date=datetime.date(2021, 1, 31),\n",
    "    maximum_dwell_time_of_export_containers_in_hours=10*24\n",
    ")\n",
    "container_flow_generation_manager.get_properties()"
   ]
  },
  {
   "cell_type": "raw",
   "id": "81cc4641",
   "metadata": {
    "raw_mimetype": "text/restructuredtext"
   },
   "source": [
    "More information on setting and getting the values can be found at\n",
    ":class:`.ContainerFlowGenerationManager`."
   ]
  }
 ],
 "metadata": {
  "celltoolbar": "Raw Cell Format",
  "kernelspec": {
   "display_name": "Python 3 (ipykernel)",
   "language": "python",
   "name": "python3"
  },
  "language_info": {
   "codemirror_mode": {
    "name": "ipython",
    "version": 3
   },
   "file_extension": ".py",
   "mimetype": "text/x-python",
   "name": "python",
   "nbconvert_exporter": "python",
   "pygments_lexer": "ipython3",
   "version": "3.8.10"
  }
 },
 "nbformat": 4,
 "nbformat_minor": 5
}
