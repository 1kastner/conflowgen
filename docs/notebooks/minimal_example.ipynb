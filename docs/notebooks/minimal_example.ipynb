{
 "cells": [
  {
   "cell_type": "markdown",
   "id": "901feabe",
   "metadata": {},
   "source": [
    "# Minimal example"
   ]
  },
  {
   "cell_type": "markdown",
   "id": "224b56dd",
   "metadata": {},
   "source": [
    "## Prerequisites"
   ]
  },
  {
   "cell_type": "markdown",
   "id": "a1ceed50",
   "metadata": {},
   "source": [
    "To start, we first import the required classes, enums, and functions from ConFlowGen:"
   ]
  },
  {
   "cell_type": "code",
   "execution_count": null,
   "id": "07e1c5f6",
   "metadata": {},
   "outputs": [],
   "source": [
    "from conflowgen import ContainerFlowGenerationManager\n",
    "from conflowgen import ModeOfTransport\n",
    "from conflowgen import PortCallManager\n",
    "from conflowgen import ExportFileFormat\n",
    "from conflowgen import ExportContainerFlowManager\n",
    "from conflowgen import DatabaseChooser\n",
    "from conflowgen import setup_logger\n",
    "from conflowgen import InboundAndOutboundVehicleCapacityPreviewReport\n",
    "from conflowgen import ContainerFlowByVehicleTypePreviewReport\n",
    "from conflowgen import VehicleCapacityExceededPreviewReport\n",
    "from conflowgen import ModalSplitPreviewReport\n",
    "from conflowgen import InboundAndOutboundVehicleCapacityAnalysisReport\n",
    "from conflowgen import ContainerFlowByVehicleTypeAnalysisReport\n",
    "from conflowgen import ModalSplitAnalysisReport\n",
    "from conflowgen import ContainerFlowAdjustmentByVehicleTypeAnalysisReport\n",
    "from conflowgen import ContainerFlowAdjustmentByVehicleTypeAnalysisSummaryReport\n",
    "import datetime\n",
    "logger = setup_logger()"
   ]
  },
  {
   "cell_type": "markdown",
   "id": "654d3a06",
   "metadata": {},
   "source": [
    "## Database selection"
   ]
  },
  {
   "cell_type": "markdown",
   "id": "39c749b5",
   "metadata": {},
   "source": [
    "Now, we select a database to work in. If the selected database already exists within the project folder, it is loaded. Otherwise, it is created."
   ]
  },
  {
   "cell_type": "code",
   "execution_count": null,
   "id": "d0831553",
   "metadata": {},
   "outputs": [],
   "source": [
    "database_chooser = DatabaseChooser()\n",
    "demo_file_name = \"my_demo.sqlite\"\n",
    "if demo_file_name in database_chooser.list_all_sqlite_databases():\n",
    "    database_chooser.load_existing_sqlite_database(demo_file_name)\n",
    "else:\n",
    "    database_chooser.create_new_sqlite_database(demo_file_name)"
   ]
  },
  {
   "cell_type": "markdown",
   "id": "9485720c",
   "metadata": {},
   "source": [
    "## General settings"
   ]
  },
  {
   "cell_type": "raw",
   "id": "86e26446",
   "metadata": {
    "raw_mimetype": "text/restructuredtext"
   },
   "source": [
    "We use the :meth:`.ContainerFlowGenerationManager.set_properties` method of the\n",
    ":class:`.ContainerFlowGenerationManager` class to set a ``name``, the ``start_date`` and the ``end_date`` for the\n",
    "generation process.\n",
    "The ``start_date`` and ``end_date`` parameters must be provided as a datetime.date.\n",
    "In our example, the ``end_time`` is set as a 21 day interval on top of the ``start_date`` which is set to the time of\n",
    "execution.\n",
    "Other general settings can be set here, see the :class:`.ContainerFlowGenerationManager` class for more information."
   ]
  },
  {
   "cell_type": "code",
   "execution_count": null,
   "id": "f2981777",
   "metadata": {},
   "outputs": [],
   "source": [
    "container_flow_generation_manager = ContainerFlowGenerationManager()\n",
    "container_flow_generation_manager.set_properties(\n",
    "    name=\"Demo file\",\n",
    "    start_date=datetime.datetime.now().date(),\n",
    "    end_date=datetime.datetime.now().date() + datetime.timedelta(days=21)\n",
    ")"
   ]
  },
  {
   "cell_type": "markdown",
   "id": "3443083f",
   "metadata": {},
   "source": [
    "## Creating schedules"
   ]
  },
  {
   "cell_type": "raw",
   "id": "f10e7873",
   "metadata": {
    "raw_mimetype": "text/restructuredtext"
   },
   "source": [
    "In this demo script we will exemplary add and specify one feeder liner service to the generator.\n",
    "We do this by using the :meth:`.PortCallManager.add_large_scheduled_vehicle` method.\n",
    "The concrete vehicle instances are only generated when :meth:`.ContainerFlowGenerationManager.generate` is invoked."
   ]
  },
  {
   "cell_type": "code",
   "execution_count": null,
   "id": "583d62ee",
   "metadata": {},
   "outputs": [],
   "source": [
    "port_call_manager = PortCallManager()"
   ]
  },
  {
   "cell_type": "markdown",
   "id": "80014840",
   "metadata": {},
   "source": [
    "At first we define a name for our new feeder liner service."
   ]
  },
  {
   "cell_type": "code",
   "execution_count": null,
   "id": "c1e05d99",
   "metadata": {},
   "outputs": [],
   "source": [
    "feeder_service_name = \"LX050\""
   ]
  },
  {
   "cell_type": "raw",
   "id": "9bef51c3",
   "metadata": {
    "raw_mimetype": "text/restructuredtext"
   },
   "source": [
    "By using the :meth:`.PortCallManager.add_large_scheduled_vehicle` method, we can define the attributes for our feeder service.\n",
    "\n",
    "* ``vehicle_type`` defines, that we deal with a feeder as the mode of transport. Other valid modes of transport are deep_sea_vessel, barge, or train.\n",
    "* ``service_name`` defines a fictional name for that service.\n",
    "* ``vehicle_arrives_at`` specifies the date where the first port call of this particular line is usually happening. This parameter must be a datetime.date.\n",
    "* ``vehicle_arrives_at_time`` sets the average / planned / scheduled timeslot of the port call. This parameter must be a datetime.time.\n",
    "* ``average_vehicle_capacity`` defines the average capacity of the vessels utilized on this line. Parameter must be int or float.\n",
    "* ``average_moved_capacity`` sets the capacity which is in average moved between the feeder and the terminal at each call. Parameter must be int or float.\n",
    "* ``next_destinations`` can be set, consisting of name and frequency which can e.g. be used as implication for storage- and stacking-problems. A list of tuples [str, float] is expected here."
   ]
  },
  {
   "cell_type": "code",
   "execution_count": null,
   "id": "82ccee1f",
   "metadata": {},
   "outputs": [],
   "source": [
    "port_call_manager.add_large_scheduled_vehicle(\n",
    "    vehicle_type=ModeOfTransport.feeder,\n",
    "    service_name=feeder_service_name,\n",
    "    vehicle_arrives_at=datetime.date(2021, 7, 9),\n",
    "    vehicle_arrives_at_time=datetime.time(11),\n",
    "    average_vehicle_capacity=800,\n",
    "    average_moved_capacity=100,\n",
    "    next_destinations=[\n",
    "        (\"DEBRV\", 0.4),  # 40% of the containers go here...\n",
    "        (\"RULED\", 0.6)   # and the other 60% of the containers go here.\n",
    "    ]\n",
    ")"
   ]
  },
  {
   "cell_type": "markdown",
   "id": "6a37ee6c",
   "metadata": {},
   "source": [
    "The overall code in the demo for the creation of a feeder service looks like this. Here, the code is wrapped in an if condition to check if the liner service is not already existing and comes with some additional logging information. The logging part may be helpful, but is not explained further here."
   ]
  },
  {
   "cell_type": "code",
   "execution_count": null,
   "id": "2a466359",
   "metadata": {},
   "outputs": [],
   "source": [
    "port_call_manager = PortCallManager()\n",
    "feeder_service_name = \"LX050\"\n",
    "if not port_call_manager.has_schedule(feeder_service_name, vehicle_type=ModeOfTransport.feeder):\n",
    "    logger.info(f\"Add feeder service '{feeder_service_name}' to database\")\n",
    "    port_call_manager.add_large_scheduled_vehicle(\n",
    "        vehicle_type=ModeOfTransport.feeder,\n",
    "        service_name=feeder_service_name,\n",
    "        vehicle_arrives_at=datetime.date(2021, 7, 9),\n",
    "        vehicle_arrives_at_time=datetime.time(11),\n",
    "        average_vehicle_capacity=800,\n",
    "        average_moved_capacity=100,\n",
    "        next_destinations=[\n",
    "            (\"DEBRV\", 0.4),  # 40% of the containers go here...\n",
    "            (\"RULED\", 0.6)   # and the other 60% of the containers go here.\n",
    "        ]\n",
    "    )\n",
    "else:\n",
    "    logger.info(f\"Feeder service '{feeder_service_name}' already exists\")"
   ]
  },
  {
   "cell_type": "markdown",
   "id": "1dfbc7a0",
   "metadata": {},
   "source": [
    "Following the same principle and structure we can also add schedules for trains and deep sea vessels:"
   ]
  },
  {
   "cell_type": "code",
   "execution_count": null,
   "id": "3dc13855",
   "metadata": {},
   "outputs": [],
   "source": [
    "train_service_name = \"JR03A\"\n",
    "if not port_call_manager.has_schedule(train_service_name, vehicle_type=ModeOfTransport.train):\n",
    "    logger.info(f\"Add train service '{train_service_name}' to database\")\n",
    "    port_call_manager.add_large_scheduled_vehicle(\n",
    "        vehicle_type=ModeOfTransport.train,\n",
    "        service_name=train_service_name,\n",
    "        vehicle_arrives_at=datetime.date(2021, 7, 12),\n",
    "        vehicle_arrives_at_time=datetime.time(17),\n",
    "        average_vehicle_capacity=90,\n",
    "        average_moved_capacity=90,\n",
    "        next_destinations=None  # Here we don't have containers that need to be grouped by destination\n",
    "    )\n",
    "else:\n",
    "    logger.info(f\"Train service '{train_service_name}' already exists\")"
   ]
  },
  {
   "cell_type": "code",
   "execution_count": null,
   "id": "b82cd354",
   "metadata": {},
   "outputs": [],
   "source": [
    "deep_sea_service_name = \"LX050\"\n",
    "if not port_call_manager.has_schedule(deep_sea_service_name, vehicle_type=ModeOfTransport.deep_sea_vessel):\n",
    "    logger.info(f\"Add deep sea vessel service '{deep_sea_service_name}' to database\")\n",
    "    port_call_manager.add_large_scheduled_vehicle(\n",
    "        vehicle_type=ModeOfTransport.deep_sea_vessel,\n",
    "        service_name=deep_sea_service_name,\n",
    "        vehicle_arrives_at=datetime.date(2021, 7, 10),\n",
    "        vehicle_arrives_at_time=datetime.time(19),\n",
    "        average_vehicle_capacity=16000,\n",
    "        average_moved_capacity=150,  # for faster demo\n",
    "        next_destinations=[\n",
    "            (\"ZADUR\", 0.3),  # 30% of the containers go to ZADUR...\n",
    "            (\"CNSHG\", 0.7)   # and the other 70% of the containers go to CNSHG.\n",
    "        ]\n",
    "    )\n",
    "else:\n",
    "    logger.info(f\"Deep sea service '{deep_sea_service_name}' already exists\")"
   ]
  },
  {
   "cell_type": "markdown",
   "id": "469bf87b",
   "metadata": {},
   "source": [
    "## Generate the data"
   ]
  },
  {
   "cell_type": "raw",
   "id": "428e6a81",
   "metadata": {
    "raw_mimetype": "text/restructuredtext"
   },
   "source": [
    "After we have set some exemplary schedules, we can now come to the actual generation.\n",
    "The :meth:`.ContainerFlowGenerationManager.generate` method starts the generation process of the synthetic\n",
    "container flow data, based on the information you set earlier."
   ]
  },
  {
   "cell_type": "code",
   "execution_count": null,
   "id": "a0a1314b",
   "metadata": {},
   "outputs": [],
   "source": [
    "container_flow_generation_manager.generate()"
   ]
  }
 ],
 "metadata": {
  "celltoolbar": "Raw Cell Format",
  "kernelspec": {
   "display_name": "Python 3 (ipykernel)",
   "language": "python",
   "name": "python3"
  },
  "language_info": {
   "codemirror_mode": {
    "name": "ipython",
    "version": 3
   },
   "file_extension": ".py",
   "mimetype": "text/x-python",
   "name": "python",
   "nbconvert_exporter": "python",
   "pygments_lexer": "ipython3",
   "version": "3.8.10"
  }
 },
 "nbformat": 4,
 "nbformat_minor": 5
}
