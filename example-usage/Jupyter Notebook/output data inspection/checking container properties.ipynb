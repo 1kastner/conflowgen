{
 "cells": [
  {
   "cell_type": "markdown",
   "id": "91f08f75-e00e-4efa-8d06-54c35d7d6278",
   "metadata": {},
   "source": [
    "# Checking container properties\n",
    "\n",
    "This file inspects the CSV output of ConFlowGen.\n",
    "Here, it checks whether the synthetic output corresponds to the initial input distributions.\n",
    "In addition, the onward transportation is inspected.\n",
    "It assumes the default values as they are initially seeded into a new database."
   ]
  },
  {
   "cell_type": "code",
   "execution_count": null,
   "id": "235aa9d7-1684-430e-91b1-a1c5cc69f241",
   "metadata": {},
   "outputs": [],
   "source": [
    "import os\n",
    "import pathlib\n",
    "import ipywidgets as widgets\n",
    "import pandas as pd\n",
    "from IPython.display import Markdown\n",
    "import matplotlib.pyplot as plt"
   ]
  },
  {
   "cell_type": "markdown",
   "id": "92a64c64-4dd9-4c5d-854e-6a5c0004a402",
   "metadata": {},
   "source": [
    "## Read in the files"
   ]
  },
  {
   "cell_type": "code",
   "execution_count": null,
   "id": "ec82dd0a-0e76-46d6-ad53-b48f20b29b49",
   "metadata": {},
   "outputs": [],
   "source": [
    "folder_of_this_jupyter_notebook = pathlib.Path.cwd()\n",
    "export_folder = os.path.join(\n",
    "    folder_of_this_jupyter_notebook,\n",
    "    os.pardir,\n",
    "    os.pardir,\n",
    "    os.pardir,\n",
    "    \"conflowgen\",\n",
    "    \"data\",\n",
    "    \"exports\"\n",
    ")\n",
    "folders = [\n",
    "    folder\n",
    "    for folder in os.listdir(export_folder)\n",
    "    if os.path.isdir(\n",
    "        os.path.join(\n",
    "            export_folder,\n",
    "            folder\n",
    "        )\n",
    "    )\n",
    "]\n",
    "\n",
    "dropdown_field = widgets.Dropdown(\n",
    "    options=list(reversed(folders)),  # always show the newest first\n",
    "    description='',\n",
    "    layout={'width': 'max-content'}\n",
    ")\n",
    "dropdown_label = widgets.Label(value=\"Select the exported output: \")\n",
    "display(widgets.HBox([dropdown_label, dropdown_field]))"
   ]
  },
  {
   "cell_type": "code",
   "execution_count": null,
   "id": "187649c7-2f41-47af-a800-56b2744adbde",
   "metadata": {},
   "outputs": [],
   "source": [
    "path_to_selected_exported_content = os.path.join(\n",
    "    export_folder,\n",
    "    dropdown_field.value\n",
    ")\n",
    "\n",
    "path_to_containers = os.path.join(\n",
    "    path_to_selected_exported_content,\n",
    "    \"containers.csv\"\n",
    ")\n",
    "print(f\"Opening {path_to_containers}\")"
   ]
  },
  {
   "cell_type": "code",
   "execution_count": null,
   "id": "b82c36db-5ec8-4c2f-a43a-27eda9492608",
   "metadata": {},
   "outputs": [],
   "source": [
    "df = pd.read_csv(path_to_containers, index_col=\"id\", dtype={\n",
    "    \"delivered_by_truck\": \"Int64\",\n",
    "    \"picked_up_by_truck\": \"Int64\",\n",
    "    \"delivered_with_large_scheduled_vehicle\": \"Int64\",\n",
    "    \"picked_up_by_large_scheduled_vehicle\": \"Int64\"\n",
    "})\n",
    "\n",
    "df"
   ]
  },
  {
   "cell_type": "code",
   "execution_count": null,
   "id": "0bd2b6ce-5b4b-49b8-a5e9-f8b15c37507b",
   "metadata": {},
   "outputs": [],
   "source": [
    "df.info()"
   ]
  },
  {
   "cell_type": "markdown",
   "id": "f09fa0ac-f37b-420a-971c-8f51bd83cc91",
   "metadata": {},
   "source": [
    "Replace underscores with spaces to have more beautiful visualizations."
   ]
  },
  {
   "cell_type": "code",
   "execution_count": null,
   "id": "6887ccc3-b543-4709-a324-43eab03a2067",
   "metadata": {},
   "outputs": [],
   "source": [
    "df.columns = df.columns.str.replace('_',' ')"
   ]
  },
  {
   "cell_type": "markdown",
   "id": "6e6f01cb-ca1e-411f-8e0d-ca87495acfab",
   "metadata": {},
   "source": [
    "## Length distribution"
   ]
  },
  {
   "cell_type": "code",
   "execution_count": null,
   "id": "5b5a4d60-553e-4b4d-b4ea-cb16f58be484",
   "metadata": {},
   "outputs": [],
   "source": [
    "df[\"length\"].value_counts().plot.pie(label='')\n",
    "plt.title(\"Container lengths\")\n",
    "plt.show()"
   ]
  },
  {
   "cell_type": "code",
   "execution_count": null,
   "id": "9aed950c-62db-47f0-966e-1bea59a90e15",
   "metadata": {},
   "outputs": [],
   "source": [
    "assert len(df[df[\"length\"] == -1]) == 0\n",
    "assert len(df[df[\"length\"] == 45]) == 0"
   ]
  },
  {
   "cell_type": "markdown",
   "id": "2e18747a-66e6-45ef-970a-079b23ba5003",
   "metadata": {},
   "source": [
    "## Weight distribution"
   ]
  },
  {
   "cell_type": "code",
   "execution_count": null,
   "id": "cb0a6a0a-7d0d-4cf0-9d07-5c1d09dae3d5",
   "metadata": {},
   "outputs": [],
   "source": [
    "weight_groups_20_foot = sorted(df[(df[\"length\"] == 20) & (df[\"storage requirement\"] != \"empty\")][\"weight\"].unique())\n",
    "display(Markdown(f\"Weight groups for 20' containers: {weight_groups_20_foot}\"))\n",
    "number_weight_groups_20_foot_containers = len(weight_groups_20_foot)\n",
    "display(Markdown(f\"Number of weight groups for 20' containers: {number_weight_groups_20_foot_containers}\"))\n",
    "\n",
    "weight_groups_40_foot = sorted(df[(df[\"length\"] == 40) & (df[\"storage requirement\"] != \"empty\")][\"weight\"].unique())\n",
    "display(Markdown(f\"Weight groups for 40' containers: {weight_groups_40_foot}\"))\n",
    "number_weight_groups_40_foot_containers = len(weight_groups_40_foot)\n",
    "display(Markdown(f\"Number of weight groups for 40' containers: {number_weight_groups_40_foot_containers}\"))"
   ]
  },
  {
   "cell_type": "code",
   "execution_count": null,
   "id": "f0746ee2-9985-4bd2-a796-c319d5822129",
   "metadata": {},
   "outputs": [],
   "source": [
    "display(Markdown(\"### Without empty containers\"))\n",
    "\n",
    "df[(df[\"length\"] == 20) & (df[\"storage requirement\"] != \"empty\")][\"weight\"].plot.hist(bins=number_weight_groups_20_foot_containers)\n",
    "plt.title(\"20' containers\")\n",
    "plt.show()\n",
    "\n",
    "df[(df[\"length\"] == 40) & (df[\"storage requirement\"] != \"empty\")][\"weight\"].plot.hist(bins=number_weight_groups_40_foot_containers)\n",
    "plt.title(\"40' containers\")\n",
    "plt.show()\n",
    "\n",
    "display(Markdown(\"### With empty containers\"))\n",
    "\n",
    "df[(df[\"length\"] == 20)][\"weight\"].plot.hist(bins=number_weight_groups_20_foot_containers)\n",
    "plt.title(\"20' containers\")\n",
    "plt.show()\n",
    "\n",
    "df[(df[\"length\"] == 40)][\"weight\"].plot.hist(bins=number_weight_groups_40_foot_containers)\n",
    "plt.title(\"40' containers\")\n",
    "plt.show()"
   ]
  },
  {
   "cell_type": "markdown",
   "id": "9ad1d96d-8525-4ea2-812b-a3501d2ca3ec",
   "metadata": {
    "tags": []
   },
   "source": [
    "## Check foreign key integrity"
   ]
  },
  {
   "cell_type": "code",
   "execution_count": null,
   "id": "66c56cf4-2f81-4498-b941-ce9418bad0b0",
   "metadata": {},
   "outputs": [],
   "source": [
    "delivering_truck_is_missing = (df[\"delivered by\"] == \"truck\") & pd.isna(df[\"delivered by truck\"])\n",
    "assert not delivering_truck_is_missing.any()"
   ]
  },
  {
   "cell_type": "code",
   "execution_count": null,
   "id": "3e5239b1-d32a-46d6-9ab3-ff276f7acdb9",
   "metadata": {},
   "outputs": [],
   "source": [
    "delivering_vehicle_is_missing = (df[\"delivered by\"] != \"truck\") & pd.isna(df[\"delivered by large scheduled vehicle\"])\n",
    "assert not delivering_vehicle_is_missing.any()"
   ]
  },
  {
   "cell_type": "code",
   "execution_count": null,
   "id": "6206bd8a-6e69-4b1c-9b55-37853053f76a",
   "metadata": {},
   "outputs": [],
   "source": [
    "picking_up_truck_is_missing = (df[\"picked up by\"] == \"truck\") & pd.isna(df[\"picked up by truck\"])\n",
    "assert not picking_up_truck_is_missing.any()"
   ]
  },
  {
   "cell_type": "code",
   "execution_count": null,
   "id": "1ee618fa-9277-48b9-b12b-fb1ded3cc6a5",
   "metadata": {},
   "outputs": [],
   "source": [
    "picking_up_vehicle_is_missing = (df[\"picked up by\"] != \"truck\") & pd.isna(df[\"picked up by large scheduled vehicle\"])\n",
    "assert not picking_up_vehicle_is_missing.any()"
   ]
  },
  {
   "cell_type": "markdown",
   "id": "630d8440-db42-411e-811b-abff9f689af0",
   "metadata": {},
   "source": [
    "## Storage requirement"
   ]
  },
  {
   "cell_type": "code",
   "execution_count": null,
   "id": "b1660143-6ddf-4d8c-8d8d-9413c3267b8c",
   "metadata": {},
   "outputs": [],
   "source": [
    "df[\"storage requirement\"].value_counts().plot.pie(label='')\n",
    "plt.title(\"Storage requirements\")\n",
    "plt.show()"
   ]
  },
  {
   "cell_type": "code",
   "execution_count": null,
   "id": "8a3408ef-8eed-4bb5-933e-86a1a9c45275",
   "metadata": {},
   "outputs": [],
   "source": [
    "display(Markdown(\"Weight distribution of 20' empty containers\"))\n",
    "display(df[(df[\"storage requirement\"] == \"empty\") & (df[\"length\"] == 20)][\"weight\"].describe())\n",
    "display(Markdown(\"Weight distribution of 40' empty containers\"))\n",
    "df[(df[\"storage requirement\"] == \"empty\") & (df[\"length\"] == 40)][\"weight\"].describe()"
   ]
  },
  {
   "cell_type": "markdown",
   "id": "eabb9384-3d70-4180-a253-ffbabd1afa49",
   "metadata": {},
   "source": [
    "## Containers and the vehicle type for delivering and picking up"
   ]
  },
  {
   "cell_type": "code",
   "execution_count": null,
   "id": "f4d8c79b-4d27-4be4-89a4-4e2774e7b844",
   "metadata": {},
   "outputs": [],
   "source": [
    "def make_autopct(values):\n",
    "    def my_autopct(pct):\n",
    "        total = sum(values)\n",
    "        val = int(round(pct*total/100.0))\n",
    "        return '{p:.2f}%\\n({v:d})'.format(p=pct, v=val)\n",
    "    return my_autopct"
   ]
  },
  {
   "cell_type": "code",
   "execution_count": null,
   "id": "a68bba9c-0f7c-4607-8264-895a7cb7b20e",
   "metadata": {},
   "outputs": [],
   "source": [
    "df[\"delivered by\"].value_counts().plot.pie(label='', autopct=make_autopct(df[\"delivered by\"].value_counts().values))\n",
    "plt.title(\"Containers delivered by vehicle type\")\n",
    "plt.show()"
   ]
  },
  {
   "cell_type": "code",
   "execution_count": null,
   "id": "217aca9b-6d3e-422d-a617-1c14f3349074",
   "metadata": {},
   "outputs": [],
   "source": [
    "df[\"picked up by\"].value_counts().plot.pie(label='', autopct=make_autopct(df[\"picked up by\"].value_counts().values))\n",
    "plt.title(\"Containers picked up by vehicle type\")\n",
    "plt.show()"
   ]
  },
  {
   "cell_type": "markdown",
   "id": "de4a4c24-899c-45b7-802e-259fd8eec2f2",
   "metadata": {},
   "source": [
    "Frequency of containers being picked up by vehicle type m if they were delivered by a vehicle of type n before."
   ]
  },
  {
   "cell_type": "code",
   "execution_count": null,
   "id": "bdd59b6d-208f-40d1-8863-85e785189fe6",
   "metadata": {},
   "outputs": [],
   "source": [
    "for vehicle_type in df[\"delivered by\"].unique():\n",
    "    vehicle_type_text_repr = vehicle_type.replace(\"_\", \" \")\n",
    "    df_delivered_with_vehicle_type = df[df[\"delivered by\"] == vehicle_type]\n",
    "    df_delivered_with_vehicle_type[\"picked up by\"].value_counts().plot.pie(\n",
    "        label='',\n",
    "        autopct=make_autopct(df_delivered_with_vehicle_type[\"picked up by\"].value_counts().values)\n",
    "    )\n",
    "    plt.title(\"When delivered by \" + vehicle_type_text_repr + \", containers are picked up by these vehicle types\")\n",
    "    plt.show()\n",
    "    if len(df_delivered_with_vehicle_type[\n",
    "        df_delivered_with_vehicle_type[\"picked up by\"] == \"truck\"\n",
    "    ]) == 0:\n",
    "        display(Markdown(f\"No container was delivered by {vehicle_type_text_repr} and picked up by truck\"))\n",
    "        continue\n",
    "\n",
    "    df_delivered_with_vehicle_type[\n",
    "        df_delivered_with_vehicle_type[\"picked up by\"] == \"truck\"\n",
    "    ][\"emergency pickup\"].value_counts().plot.pie(\n",
    "        label=\"\",\n",
    "        autopct=make_autopct(df_delivered_with_vehicle_type[\n",
    "        df_delivered_with_vehicle_type[\"picked up by\"] == \"truck\"\n",
    "    ][\"emergency pickup\"].value_counts().values)\n",
    "    )\n",
    "    plt.title(\"This amount of containers was picked up by a truck because otherwise \"\n",
    "              \"the maximum dwell time would have been exceeded\")\n",
    "    plt.show()"
   ]
  },
  {
   "cell_type": "code",
   "execution_count": null,
   "id": "0ea0f684-4004-4370-8fed-be6298b13b07",
   "metadata": {},
   "outputs": [],
   "source": [
    "for vehicle_type in df[\"picked up by\"].unique():\n",
    "    df_picked_up_by_vehicle_type = df[df[\"picked up by\"] == vehicle_type]\n",
    "    df_picked_up_by_vehicle_type[\"delivered by\"].value_counts().plot.pie(\n",
    "        label='',\n",
    "        autopct=make_autopct(df_delivered_with_vehicle_type[\"delivered by\"].value_counts().values)\n",
    "    )\n",
    "    plt.title(\"When picked up by \" + vehicle_type + \", containers are delivered by these vehicle types\")\n",
    "    plt.show()"
   ]
  },
  {
   "cell_type": "markdown",
   "id": "05ebcc7d-a0b4-4ed2-84ea-96e7e7467376",
   "metadata": {},
   "source": []
  }
 ],
 "metadata": {
  "kernelspec": {
   "display_name": "Python 3 (ipykernel)",
   "language": "python",
   "name": "python3"
  },
  "language_info": {
   "codemirror_mode": {
    "name": "ipython",
    "version": 3
   },
   "file_extension": ".py",
   "mimetype": "text/x-python",
   "name": "python",
   "nbconvert_exporter": "python",
   "pygments_lexer": "ipython3",
   "version": "3.8.12"
  }
 },
 "nbformat": 4,
 "nbformat_minor": 5
}
