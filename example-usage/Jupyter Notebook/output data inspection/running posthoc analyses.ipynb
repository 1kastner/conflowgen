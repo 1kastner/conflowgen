{
 "cells": [
  {
   "cell_type": "markdown",
   "id": "f74ed45a-9f1c-42dc-8907-958624e0576e",
   "metadata": {},
   "source": [
    "# Running Post-hoc Analyses\n",
    "\n",
    "ConFlowGen comes with a set of post-hoc analyses that relate to their preview counterparts.\n",
    "This means, that e.g.  \n",
    "`InboundAndOutboundVehicleCapacityPreviewReport`\n",
    "and\n",
    "`InboundAndOutboundVehicleCapacityAnalysisReport`\n",
    "come as a pair.\n",
    "Based on your input data, first the preview is generated.\n",
    "In case your operational restrictions (e.g., minimum and maximum container dwell times in combination with the presented schedules) are often not satisfiable, during the container flow generation some of them are relaxed (e.g., the vehicle type for onward transportation).\n",
    "Thus, you should examine the logs and these visuals\n",
    "(i.e., the visuals created by `XXXAnalysisReport`)\n",
    "to ensure that the generated container flows represent the properties you initially desired.\n",
    "If this is not the case, you need to change the input data according to your needs."
   ]
  },
  {
   "cell_type": "code",
   "execution_count": null,
   "id": "f36331f9-630a-4b91-afde-39c8f494134f",
   "metadata": {},
   "outputs": [],
   "source": [
    "import matplotlib.pyplot as plt\n",
    "\n",
    "from conflowgen import DatabaseChooser\n",
    "from conflowgen import ContainerFlowGenerationManager\n",
    "from conflowgen import InboundAndOutboundVehicleCapacityAnalysisReport\n",
    "from conflowgen import ContainerFlowByVehicleTypeAnalysisReport\n",
    "from conflowgen import ModalSplitAnalysisReport\n",
    "from conflowgen import ContainerFlowAdjustmentByVehicleTypeAnalysisReport\n",
    "from conflowgen import ContainerFlowAdjustmentByVehicleTypeAnalysisSummaryReport\n",
    "from conflowgen import YardCapacityAnalysisReport\n",
    "from conflowgen import QuaySideThroughputAnalysisReport\n",
    "from conflowgen import TruckGateThroughputAnalysisReport\n",
    "from conflowgen import StorageRequirement"
   ]
  },
  {
   "cell_type": "markdown",
   "id": "3feeb2d6-363c-433b-aed3-5f804a465826",
   "metadata": {},
   "source": [
    "## Load database"
   ]
  },
  {
   "cell_type": "markdown",
   "id": "374bb79e-9169-41ad-89c2-c5046aafae01",
   "metadata": {},
   "source": [
    "Load information from database."
   ]
  },
  {
   "cell_type": "code",
   "execution_count": null,
   "id": "b5ba71c3-d348-4e3c-ab1b-1e97c65a9ce7",
   "metadata": {},
   "outputs": [],
   "source": [
    "database_chooser = DatabaseChooser()\n",
    "demo_file_name = \"demo_deham_cta.sqlite\"\n",
    "if demo_file_name in database_chooser.list_all_sqlite_databases():\n",
    "    database_chooser.load_existing_sqlite_database(demo_file_name)\n",
    "else:\n",
    "    print(\"Database is missing, nothing to do here\")"
   ]
  },
  {
   "cell_type": "markdown",
   "id": "2bfd8c80-e412-46df-84e7-74738ddef614",
   "metadata": {},
   "source": [
    "Get information regarding the container flow."
   ]
  },
  {
   "cell_type": "code",
   "execution_count": null,
   "id": "1f7b3c60-8241-4339-940f-e91be5ff8c62",
   "metadata": {},
   "outputs": [],
   "source": [
    "container_flow_generation_manager = ContainerFlowGenerationManager()\n",
    "container_flow_properties = container_flow_generation_manager.get_properties()\n",
    "for key, value in container_flow_properties.items():\n",
    "    print(f\"{key:<60}: {value}\")"
   ]
  },
  {
   "cell_type": "markdown",
   "id": "a01679ae-67eb-4691-a8ad-c44212787b04",
   "metadata": {},
   "source": [
    "## Load text reports\n",
    "\n",
    "Generate text reports.\n",
    "These have been tested with unit tests and serve as guidance for the visualizations."
   ]
  },
  {
   "cell_type": "code",
   "execution_count": null,
   "id": "db8023b3-9f49-434c-8f61-ac0eab78a15a",
   "metadata": {},
   "outputs": [],
   "source": [
    "inbound_and_outbound_vehicle_capacity_analysis_report = InboundAndOutboundVehicleCapacityAnalysisReport()\n",
    "report = inbound_and_outbound_vehicle_capacity_analysis_report.get_report_as_text()\n",
    "print(\"Inbound and outbound traffic: \")\n",
    "print(report)\n",
    "print()\n",
    "\n",
    "container_flow_by_vehicle_type_analysis_report = ContainerFlowByVehicleTypeAnalysisReport()\n",
    "report = container_flow_by_vehicle_type_analysis_report.get_report_as_text()\n",
    "print(\"Container flow between vehicle types as generated: \")\n",
    "print(report)\n",
    "print()\n",
    "\n",
    "modal_split_analysis_report = ModalSplitAnalysisReport()\n",
    "report = modal_split_analysis_report.get_report_as_text()\n",
    "print(\"The same container flow expressed in terms of transshipment and modal split for the hinterland: \")\n",
    "print(report)\n",
    "print()\n",
    "\n",
    "container_flow_adjustment_by_vehicle_type_analysis_report = ContainerFlowAdjustmentByVehicleTypeAnalysisReport()\n",
    "report = container_flow_adjustment_by_vehicle_type_analysis_report.get_report_as_text()\n",
    "print(\"Consequences of container flow for outgoing vehicles: \")\n",
    "print(report)\n",
    "\n",
    "container_flow_adjustment_by_vehicle_type_analysis_summary_report = ContainerFlowAdjustmentByVehicleTypeAnalysisSummaryReport()\n",
    "report = container_flow_adjustment_by_vehicle_type_analysis_summary_report.get_report_as_text()\n",
    "print(\"The summary of the previous report: \")\n",
    "print(report)\n",
    "\n",
    "yard_capacity_analysis_report = YardCapacityAnalysisReport()\n",
    "report = yard_capacity_analysis_report.get_report_as_text()\n",
    "print(\"Analyse the used capacity in the yard\")\n",
    "print(report)\n",
    "\n",
    "quay_side_throughput_analysis_report = QuaySideThroughputAnalysisReport()\n",
    "report = quay_side_throughput_analysis_report.get_report_as_text()\n",
    "print(\"Analyse the throughput at the quay side\")\n",
    "print(report)\n",
    "\n",
    "truck_gate_throughput_analysis_report = TruckGateThroughputAnalysisReport()\n",
    "report = truck_gate_throughput_analysis_report.get_report_as_text()\n",
    "print(\"Analyse the throughput at the truck gate\")\n",
    "print(report)"
   ]
  },
  {
   "cell_type": "markdown",
   "id": "4c5d1a07-49d5-447b-bbf2-02271aec085d",
   "metadata": {},
   "source": [
    "## Plot inbound and outbound capacities"
   ]
  },
  {
   "cell_type": "code",
   "execution_count": null,
   "id": "fd950d6d-5f69-4ea5-a99f-f4a6c8341de0",
   "metadata": {},
   "outputs": [],
   "source": [
    "ax = inbound_and_outbound_vehicle_capacity_analysis_report.get_report_as_graph()\n",
    "plt.show()"
   ]
  },
  {
   "cell_type": "markdown",
   "id": "098e005e-690f-4b99-acff-ad226e265342",
   "metadata": {},
   "source": [
    "If the actual and maximum capacity are equal, most likely some of the containers needed to be redirected to other vehicle types as not sufficient resources were available."
   ]
  },
  {
   "cell_type": "code",
   "execution_count": null,
   "id": "ba2dffa4-6d62-4a50-ab83-c9790e4d6ed9",
   "metadata": {},
   "outputs": [],
   "source": [
    "fig = container_flow_by_vehicle_type_analysis_report.get_report_as_graph()\n",
    "fig.show()"
   ]
  },
  {
   "cell_type": "markdown",
   "id": "bfa14c82-cf49-44c8-b3d0-3a221145e83f",
   "metadata": {},
   "source": [
    "Please check whether you have expected this container flow as depicted."
   ]
  },
  {
   "cell_type": "code",
   "execution_count": null,
   "id": "291b0cc4-05ab-4e75-85ae-a0e5dbbdbcd0",
   "metadata": {},
   "outputs": [],
   "source": [
    "ax = modal_split_analysis_report.get_report_as_graph()\n",
    "plt.show()"
   ]
  },
  {
   "cell_type": "markdown",
   "id": "a128a36f-b704-4ef4-b17f-fec716d12282",
   "metadata": {},
   "source": [
    "This shows the modal split as it is reflected in the actually generated data."
   ]
  },
  {
   "cell_type": "code",
   "execution_count": null,
   "id": "0793d415-dc43-4b59-b20a-705e5caa0d31",
   "metadata": {},
   "outputs": [],
   "source": [
    "fig = container_flow_adjustment_by_vehicle_type_analysis_report.get_report_as_graph()\n",
    "fig.show()"
   ]
  },
  {
   "cell_type": "markdown",
   "id": "f8a66bd9-2af9-42da-878f-2144291832ee",
   "metadata": {},
   "source": [
    "This is the flow from the initially selected vehicle type selected for pick up to the vehicle type that it was changed to in order not to harm the operational constraints.\n",
    "If the left and right side are the same, this means that nothing has changed."
   ]
  },
  {
   "cell_type": "code",
   "execution_count": null,
   "id": "21545371-7e36-43f9-8fd5-991cc6cedce5",
   "metadata": {},
   "outputs": [],
   "source": [
    "ax = container_flow_adjustment_by_vehicle_type_analysis_summary_report.get_report_as_graph()\n",
    "plt.show()"
   ]
  },
  {
   "cell_type": "markdown",
   "id": "ea14c6a5-f05f-4e4e-8177-37ea843d3547",
   "metadata": {},
   "source": [
    "This is a summary of the previously presented flow.\n",
    "A large fraction of unchanged vehicle types reflects that operational constraints were rarely harmed.\n",
    "If the fraction of unchanged vehicles is not the majority, some of your assumptions regarding the prevailing container flows through the terminal might require reconsideration."
   ]
  },
  {
   "cell_type": "code",
   "execution_count": null,
   "id": "ee03f22b-1de2-4a8b-9be2-f0fbf17320d0",
   "metadata": {},
   "outputs": [],
   "source": [
    "ax = yard_capacity_analysis_report.get_report_as_graph()\n",
    "plt.show()\n",
    "ax = yard_capacity_analysis_report.get_report_as_graph(storage_requirement=StorageRequirement.standard)\n",
    "plt.show()\n",
    "ax = yard_capacity_analysis_report.get_report_as_graph(storage_requirement={StorageRequirement.reefer, StorageRequirement.dangerous_goods})\n",
    "plt.show()"
   ]
  },
  {
   "cell_type": "markdown",
   "id": "02cc20e8-d58a-45f7-8c15-2044e6c67196",
   "metadata": {},
   "source": [
    "This shows the used capacity in the yard."
   ]
  },
  {
   "cell_type": "markdown",
   "id": "d81cc901-2124-4d69-81d6-0a16b73fbf2d",
   "metadata": {},
   "source": [
    "Now let's see how many containers cross the quay side each week."
   ]
  },
  {
   "cell_type": "code",
   "execution_count": null,
   "id": "ea8f78c1-741f-416c-bdf9-784c095806d1",
   "metadata": {},
   "outputs": [],
   "source": [
    "ax = quay_side_throughput_analysis_report.get_report_as_graph()\n",
    "plt.show()"
   ]
  },
  {
   "cell_type": "markdown",
   "id": "3f0818bc-3e01-4ce9-b6f1-ef11e7c64016",
   "metadata": {},
   "source": [
    "...and how many containers pass the truck gate?"
   ]
  },
  {
   "cell_type": "code",
   "execution_count": null,
   "id": "a9988472-4882-421d-920b-13767937ec0b",
   "metadata": {},
   "outputs": [],
   "source": [
    "ax = truck_gate_throughput_analysis_report.get_report_as_graph()\n",
    "plt.show()"
   ]
  },
  {
   "cell_type": "markdown",
   "id": "6b62da6b-596b-4aa4-bcbf-b47cd8a2390e",
   "metadata": {},
   "source": []
  }
 ],
 "metadata": {
  "kernelspec": {
   "display_name": "Python [conda env:conflowgen] *",
   "language": "python",
   "name": "conda-env-conflowgen-py"
  },
  "language_info": {
   "codemirror_mode": {
    "name": "ipython",
    "version": 3
   },
   "file_extension": ".py",
   "mimetype": "text/x-python",
   "name": "python",
   "nbconvert_exporter": "python",
   "pygments_lexer": "ipython3",
   "version": "3.8.12"
  }
 },
 "nbformat": 4,
 "nbformat_minor": 5
}
