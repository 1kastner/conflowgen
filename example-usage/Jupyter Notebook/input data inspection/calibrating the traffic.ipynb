{
 "cells": [
  {
   "cell_type": "markdown",
   "id": "a21d60d0-4cae-4ff4-9ef4-a23ca4f1b22f",
   "metadata": {},
   "source": [
    "# Calibrating the Traffic\n",
    "\n",
    "After all schedules have been added to the database, now the distribution for the vehicle type of the onward transportation of the container need to be be calibrated accordingly.\n",
    "This distribution decides which vehicle type will pick up the container on its outbound journey.\n",
    "Calibrating this distribution to your input data is good practice as it gives you the chance to re-check your assumptions regarding the traffic.\n",
    "Technically speaking the distribution will be automatically adjusted during the generation process if required.\n",
    "It will issue a warning when doing so.\n",
    "In this Jupyter Notebook, it is show how the calibration can be done."
   ]
  },
  {
   "cell_type": "code",
   "execution_count": null,
   "id": "b8d4b308-d2de-425e-bc63-c9c7968b6409",
   "metadata": {},
   "outputs": [],
   "source": [
    "import matplotlib.pyplot as plt\n",
    "import seaborn as sns\n",
    "\n",
    "from conflowgen import DatabaseChooser\n",
    "from conflowgen import ContainerFlowGenerationManager\n",
    "from conflowgen import InboundAndOutboundVehicleCapacityPreviewReport\n",
    "from conflowgen import ContainerFlowByVehicleTypePreviewReport\n",
    "from conflowgen import VehicleCapacityExceededPreviewReport\n",
    "from conflowgen import ModalSplitPreviewReport\n",
    "from conflowgen import ModeOfTransport"
   ]
  },
  {
   "cell_type": "markdown",
   "id": "f762382d-d14b-4a85-a98d-ee8796003b57",
   "metadata": {},
   "source": [
    "## Load database"
   ]
  },
  {
   "cell_type": "markdown",
   "id": "2f09a5fd-570c-418c-a4f2-efbb914b05d9",
   "metadata": {},
   "source": [
    "Load information from database."
   ]
  },
  {
   "cell_type": "code",
   "execution_count": null,
   "id": "b0547c66-8356-4b82-ab48-5f4667935927",
   "metadata": {},
   "outputs": [],
   "source": [
    "database_chooser = DatabaseChooser()\n",
    "demo_file_name = \"demo_deham_cta.sqlite\"\n",
    "if demo_file_name in database_chooser.list_all_sqlite_databases():\n",
    "    database_chooser.load_existing_sqlite_database(demo_file_name)\n",
    "else:\n",
    "    print(\"Database is missing, nothing to do here\")"
   ]
  },
  {
   "cell_type": "markdown",
   "id": "93f9568c-2305-4398-ba47-6f5aa03bd408",
   "metadata": {},
   "source": [
    "Get information regarding the container flow."
   ]
  },
  {
   "cell_type": "code",
   "execution_count": null,
   "id": "a35c2f6c-4095-43b6-bb0e-26870514efe3",
   "metadata": {},
   "outputs": [],
   "source": [
    "container_flow_generation_manager = ContainerFlowGenerationManager()\n",
    "container_flow_properties = container_flow_generation_manager.get_properties()\n",
    "for key, value in container_flow_properties.items():\n",
    "    print(f\"{key:<60}: {value}\")"
   ]
  },
  {
   "cell_type": "markdown",
   "id": "d76ca09e-36e4-4454-bcf9-8b114e0db934",
   "metadata": {},
   "source": [
    "## Load text reports\n",
    "\n",
    "Generate text reports.\n",
    "These have been tested with unit tests and serve as guidance for the visualizations."
   ]
  },
  {
   "cell_type": "code",
   "execution_count": null,
   "id": "157a0a92-42fa-41ff-9a1b-a36968ca57c0",
   "metadata": {},
   "outputs": [],
   "source": [
    "inbound_and_outbound_vehicle_capacity_preview_report = InboundAndOutboundVehicleCapacityPreviewReport()\n",
    "report = inbound_and_outbound_vehicle_capacity_preview_report.get_report_as_text()\n",
    "print(\"Inbound and outbound traffic: \")\n",
    "print(report)\n",
    "print()\n",
    "\n",
    "container_flow_by_vehicle_type_preview_report = ContainerFlowByVehicleTypePreviewReport()\n",
    "report = container_flow_by_vehicle_type_preview_report.get_report_as_text()\n",
    "print(\"Container flow between vehicle types as defined by schedules and distributions: \")\n",
    "print(report)\n",
    "print()\n",
    "\n",
    "modal_split_preview_report = ModalSplitPreviewReport()\n",
    "report = modal_split_preview_report.get_report_as_text()\n",
    "print(\"The same container flow expressed in terms of transshipment and modal split for the hinterland: \")\n",
    "print(report)\n",
    "print()\n",
    "\n",
    "vehicle_capacity_exceeded_preview_report = VehicleCapacityExceededPreviewReport()\n",
    "report = vehicle_capacity_exceeded_preview_report.get_report_as_text()\n",
    "print(\"Consequences of container flow for outgoing vehicles: \")\n",
    "print(report)"
   ]
  },
  {
   "cell_type": "markdown",
   "id": "d5955a6e-1982-41e3-851b-79016d38915c",
   "metadata": {},
   "source": [
    "## Plot inbound and outbound capacities"
   ]
  },
  {
   "cell_type": "code",
   "execution_count": null,
   "id": "a81d56dd-5e1b-43f6-b31e-4276bc7b18a7",
   "metadata": {},
   "outputs": [],
   "source": [
    "inbound_and_outbound_vehicle_capacity_preview_report.get_report_as_graph()\n",
    "sns.set_palette(sns.color_palette())\n",
    "plt.show()"
   ]
  },
  {
   "cell_type": "markdown",
   "id": "cdeae829-bc3a-4832-b407-a3aefad05cbd",
   "metadata": {},
   "source": [
    "If the outbound capacity is the same like the maximum capacity, it means all capacities are used.\n",
    "This can either happen if the transport buffer is 0%."
   ]
  },
  {
   "cell_type": "markdown",
   "id": "2a88b01e-20ca-4a88-81e0-6221d40dad82",
   "metadata": {},
   "source": [
    "## Plot intended container flows"
   ]
  },
  {
   "cell_type": "code",
   "execution_count": null,
   "id": "83697bbb-377c-468a-b85f-9991a8d6a257",
   "metadata": {},
   "outputs": [],
   "source": [
    "fig = container_flow_by_vehicle_type_preview_report.get_report_as_graph()\n",
    "fig.show()"
   ]
  },
  {
   "cell_type": "markdown",
   "id": "d292c810-f2cc-4fa7-8e69-f32d57aa9e81",
   "metadata": {},
   "source": [
    "## Plot capacity exceeded"
   ]
  },
  {
   "cell_type": "code",
   "execution_count": null,
   "id": "876e3f0a-dc78-4c8b-825f-67b2dbe1900a",
   "metadata": {},
   "outputs": [],
   "source": [
    "vehicle_capacity_exceeded_preview_report.get_report_as_graph()\n",
    "sns.set_palette(sns.color_palette())\n",
    "plt.show()"
   ]
  },
  {
   "cell_type": "markdown",
   "id": "13123842-09eb-4265-951e-eb24b962b196",
   "metadata": {},
   "source": [
    "If a bar of the currently planned value exceeds the maximum, this means that there is a mismatch - there are more transports planned for the outbound journey of that vehicle than there is capacity left on these vehicles."
   ]
  },
  {
   "cell_type": "markdown",
   "id": "ddc0e866-de2d-4443-8f9d-17c35520c320",
   "metadata": {},
   "source": [
    "## Visualize transshipment share and modal split for hinterland"
   ]
  },
  {
   "cell_type": "code",
   "execution_count": null,
   "id": "6e3d767f-8a34-43e9-af5a-0336466fdf8a",
   "metadata": {},
   "outputs": [],
   "source": [
    "modal_split_preview_report.get_report_as_graph()\n",
    "sns.set_palette(sns.color_palette())\n",
    "plt.show()"
   ]
  },
  {
   "cell_type": "markdown",
   "id": "df7e5518-3564-447a-8c50-68265a45639c",
   "metadata": {},
   "source": [
    "## Combine visuals for tuning\n",
    "\n",
    "Here, you can adjust the mode of transport distribution and directly get the preview of how this will affect the container flow.\n",
    "Be aware that this is just a preview.\n",
    "\n",
    "For the CTA example, the calibration was based on the information available on \n",
    "https://www.hafen-hamburg.de/de/statistiken/modal-split/ during September 2021.\n",
    "At that time, 3 mio TEU were transshipped from vessel to vessel and 5.5 mio TEU were transshipped to or from the hinterland,\n",
    "corresponding to 35% were transshipment.\n",
    "Regarding the modal split for the hinterland, in September 20217% for train, 50.2% for trucks, and 2.8% for barges were reported."
   ]
  },
  {
   "cell_type": "code",
   "execution_count": null,
   "id": "9ef8ab81-66b2-4024-b650-802f26431d7c",
   "metadata": {},
   "outputs": [],
   "source": [
    "hypothesized_mode_of_transport_distribution = {\n",
    "    ModeOfTransport.truck: {\n",
    "        ModeOfTransport.truck: 0,\n",
    "        ModeOfTransport.train: 0,\n",
    "        ModeOfTransport.barge: 0,\n",
    "        ModeOfTransport.feeder: 0.8 / (0.8 + 4.6) + 0.15,\n",
    "        ModeOfTransport.deep_sea_vessel: 4.6 / (0.8 + 4.6) - 0.15\n",
    "    },\n",
    "    ModeOfTransport.train: {\n",
    "        ModeOfTransport.truck: 0,\n",
    "        ModeOfTransport.train: 0,\n",
    "        ModeOfTransport.barge: 0,\n",
    "        ModeOfTransport.feeder: 0.8 / (0.8 + 4.6) + 0.15,\n",
    "        ModeOfTransport.deep_sea_vessel: 4.6 / (0.8 + 4.6) - 0.15\n",
    "    },\n",
    "    ModeOfTransport.barge: {\n",
    "        ModeOfTransport.truck: 0,\n",
    "        ModeOfTransport.train: 0,\n",
    "        ModeOfTransport.barge: 0,\n",
    "        ModeOfTransport.feeder: 0.8 / (0.8 + 4.6),\n",
    "        ModeOfTransport.deep_sea_vessel: 4.6 / (0.8 + 4.6)\n",
    "    },\n",
    "    ModeOfTransport.feeder: {\n",
    "        ModeOfTransport.truck: 0.8 / (0.8 + 1.9) * 0.502,\n",
    "        ModeOfTransport.train: 0.8 / (0.8 + 1.9) * 0.47,\n",
    "        ModeOfTransport.barge: 0.8 / (0.8 + 1.9) * 0.0028,\n",
    "        ModeOfTransport.feeder: 0,\n",
    "        ModeOfTransport.deep_sea_vessel: 1.9 / (0.8 + 1.9)\n",
    "    },\n",
    "    ModeOfTransport.deep_sea_vessel: {\n",
    "        ModeOfTransport.truck: 4.6 / (4.6 + 1.9) * 0.502,\n",
    "        ModeOfTransport.train: 4.6 / (4.6 + 1.9) * 0.47,\n",
    "        ModeOfTransport.barge: 4.6 / (4.6 + 1.9) * 0.0028,\n",
    "        ModeOfTransport.feeder: 1.9 / (4.6 + 1.9),\n",
    "        ModeOfTransport.deep_sea_vessel: 0\n",
    "    }\n",
    "}\n",
    "\n",
    "container_flow_by_vehicle_type_preview_report.hypothesize_with_mode_of_transport_distribution(hypothesized_mode_of_transport_distribution)\n",
    "fig = container_flow_by_vehicle_type_preview_report.get_report_as_graph()\n",
    "fig.show()\n",
    "\n",
    "inbound_and_outbound_vehicle_capacity_preview_report.hypothesize_with_mode_of_transport_distribution(hypothesized_mode_of_transport_distribution)\n",
    "inbound_and_outbound_vehicle_capacity_preview_report.get_report_as_graph()\n",
    "sns.set_palette(sns.color_palette())\n",
    "plt.show()\n",
    "\n",
    "vehicle_capacity_exceeded_preview_report.hypothesize_with_mode_of_transport_distribution(hypothesized_mode_of_transport_distribution)\n",
    "vehicle_capacity_exceeded_preview_report.get_report_as_graph()\n",
    "sns.set_palette(sns.color_palette())\n",
    "plt.show()\n",
    "\n",
    "modal_split_preview_report.hypothesize_with_mode_of_transport_distribution(hypothesized_mode_of_transport_distribution)\n",
    "modal_split_preview_report.get_report_as_graph()\n",
    "plt.show()"
   ]
  },
  {
   "cell_type": "markdown",
   "id": "e38ce327-1348-4a7d-8737-09355a8aa56a",
   "metadata": {},
   "source": []
  }
 ],
 "metadata": {
  "kernelspec": {
   "display_name": "Python [conda env:conflowgen] *",
   "language": "python",
   "name": "conda-env-conflowgen-py"
  },
  "language_info": {
   "codemirror_mode": {
    "name": "ipython",
    "version": 3
   },
   "file_extension": ".py",
   "mimetype": "text/x-python",
   "name": "python",
   "nbconvert_exporter": "python",
   "pygments_lexer": "ipython3",
   "version": "3.8.12"
  }
 },
 "nbformat": 4,
 "nbformat_minor": 5
}
