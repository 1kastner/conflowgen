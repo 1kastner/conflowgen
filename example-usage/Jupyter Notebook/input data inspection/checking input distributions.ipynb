{
 "cells": [
  {
   "cell_type": "markdown",
   "id": "dc08624c-b19f-4374-a0ea-441bda337fdf",
   "metadata": {},
   "source": [
    "# Checking the Input Distributions"
   ]
  },
  {
   "cell_type": "markdown",
   "id": "2d71222e-5c24-4f48-8bb3-34090967c9c0",
   "metadata": {},
   "source": [
    "Run all imports."
   ]
  },
  {
   "cell_type": "code",
   "execution_count": null,
   "id": "283201ea-7d40-42e1-955c-9bc7a2c0b85d",
   "metadata": {},
   "outputs": [],
   "source": [
    "import matplotlib.pyplot as plt\n",
    "import matplotlib.ticker as mticker\n",
    "import pandas as pd\n",
    "import datetime\n",
    "\n",
    "# the default interface\n",
    "from conflowgen import DatabaseChooser\n",
    "from conflowgen import ContainerLength\n",
    "from conflowgen import ContainerLengthDistributionManager\n",
    "\n",
    "# mingling with the interna that are not part of the API\n",
    "from conflowgen.domain_models.distribution_repositories.container_weight_distribution_repository import ContainerWeightDistributionRepository\n",
    "from conflowgen.domain_models.distribution_repositories.truck_arrival_distribution_repository import TruckArrivalDistributionRepository"
   ]
  },
  {
   "cell_type": "markdown",
   "id": "f31c6c6e-5485-477c-8b5d-92068508b14d",
   "metadata": {},
   "source": [
    "Connect to database."
   ]
  },
  {
   "cell_type": "code",
   "execution_count": null,
   "id": "913a775c-7c6e-4dc7-836e-0feed0510811",
   "metadata": {},
   "outputs": [],
   "source": [
    "database_chooser = DatabaseChooser()\n",
    "demo_file_name = \"demo_deham_cta.sqlite\"\n",
    "if demo_file_name in database_chooser.list_all_sqlite_databases():\n",
    "    database_chooser.load_existing_sqlite_database(demo_file_name)\n",
    "else:\n",
    "    print(\"Database is missing, nothing to do here\")"
   ]
  },
  {
   "cell_type": "markdown",
   "id": "2627a5e8-f45b-42be-b2e8-bd1b590a8dac",
   "metadata": {},
   "source": [
    "Load all distributions."
   ]
  },
  {
   "cell_type": "code",
   "execution_count": null,
   "id": "53f68c2b-4ff2-4913-bfd2-0b7d5c983178",
   "metadata": {},
   "outputs": [],
   "source": [
    "length_distribution = ContainerLengthDistributionManager().get_container_lengths()\n",
    "weight_distribution = ContainerWeightDistributionRepository().get_distribution()\n",
    "truck_arrival_distribution = TruckArrivalDistributionRepository().get_distribution()"
   ]
  },
  {
   "cell_type": "markdown",
   "id": "5f5db558-7727-4659-9777-4d0f9ac6fe38",
   "metadata": {},
   "source": [
    "Plot the container length distribution."
   ]
  },
  {
   "cell_type": "code",
   "execution_count": null,
   "id": "aa509851-ee04-4d25-a65b-cb2af3234410",
   "metadata": {},
   "outputs": [],
   "source": [
    "length_distribution = {\n",
    "    key: value\n",
    "    for (key, value) in length_distribution.items()\n",
    "    if value > 0\n",
    "}\n",
    "\n",
    "plt.pie(list(length_distribution.values()), labels=[str(name) for name in length_distribution.keys()])\n",
    "plt.axis('equal')\n",
    "plt.xlabel(\"\")\n",
    "plt.show()"
   ]
  },
  {
   "cell_type": "markdown",
   "id": "6c1ef386-dc25-4f93-a7b7-ed3eb8da6212",
   "metadata": {},
   "source": [
    "Plot the weight distribution for twenty foot containers."
   ]
  },
  {
   "cell_type": "code",
   "execution_count": null,
   "id": "1d584cb5-ae01-4343-be26-726237169940",
   "metadata": {},
   "outputs": [],
   "source": [
    "x, y = zip(*list(sorted(weight_distribution[ContainerLength.twenty_feet].items())))\n",
    "plt.bar(x, [i*100 for i in y])\n",
    "\n",
    "# German\n",
    "plt.xlabel(\"Gewicht (in Tonnen)\")\n",
    "plt.ylabel(\"Anteil (in Prozent)\")\n",
    "plt.title(\"20-Fuß-Container\")\n",
    "\n",
    "# English\n",
    "plt.xlabel(\"Weight (in metric tonnes)\")\n",
    "plt.ylabel(\"Share (in percentage)\")\n",
    "plt.title(\"20 foot container\")\n",
    "\n",
    "plt.show()"
   ]
  },
  {
   "cell_type": "markdown",
   "id": "c02db469-7e3d-49cc-b44f-6195f02484b1",
   "metadata": {},
   "source": [
    "Plot the weight distribution for forty foot containers"
   ]
  },
  {
   "cell_type": "code",
   "execution_count": null,
   "id": "6af43948-6551-42d5-a6f8-9bf5c34210af",
   "metadata": {},
   "outputs": [],
   "source": [
    "x, y = zip(*list(sorted(weight_distribution[ContainerLength.forty_feet].items())))\n",
    "plt.bar(x, [i*100 for i in y])\n",
    "\n",
    "# German\n",
    "plt.xlabel(\"Gewicht (in Tonnen)\")\n",
    "plt.ylabel(\"Anteil (in Prozent)\")\n",
    "plt.title(\"40-Fuß-Container\")\n",
    "\n",
    "# English\n",
    "plt.xlabel(\"Weight (in metric tonnes)\")\n",
    "plt.ylabel(\"Share (percentage)\")\n",
    "plt.title(\"20 foot container\")\n",
    "\n",
    "plt.show()"
   ]
  },
  {
   "cell_type": "markdown",
   "id": "1b7c00f3-68b7-4999-8330-948b29566167",
   "metadata": {},
   "source": [
    "Plot the truck arrivals over one week"
   ]
  },
  {
   "cell_type": "code",
   "execution_count": null,
   "id": "83aa9c05-d3bc-48e8-b7c1-f4e7a5b53a5a",
   "metadata": {},
   "outputs": [],
   "source": [
    "truck_arrival_distribution = TruckArrivalDistributionRepository.get_distribution()\n",
    "hour_in_week, fraction = zip(*list(sorted(truck_arrival_distribution.items())))\n",
    "weekday_in_week = [x/24 + 1 for x in hour_in_week]\n",
    "percentage = [x * 100 for x in fraction]\n",
    "\n",
    "fig, ax = plt.subplots(figsize=(15, 3))\n",
    "plt.plot(weekday_in_week, percentage)\n",
    "plt.xlim([1, 7])\n",
    "ax.xaxis.grid(True, which='minor', color='gray')\n",
    "ax.xaxis.grid(True, which='major', color='k')\n",
    "ax.xaxis.set_minor_locator(mticker.MultipleLocator(1/24))\n",
    "\n",
    "# German\n",
    "plt.title(\"Ankunftsraten (gemittelt)\")\n",
    "ax.set_xticks(\n",
    "    [i for i in range(1, 8)]\n",
    ")\n",
    "ax.set_xticklabels(\n",
    "    [\"Montag\", \"Dienstag\", \"Mittwoch\", \"Donnerstag\", \"Freitag\", \"Samstag\", \"Sonntag\"]\n",
    ")\n",
    "plt.xlabel(\"Wochentag\")\n",
    "plt.ylabel(\"Anteil (in Prozent)\")\n",
    "\n",
    "# English\n",
    "plt.title(\"Arrival rates (averaged)\")\n",
    "ax.set_xticks(\n",
    "    [i for i in range(1, 8)]\n",
    ")\n",
    "ax.set_xticklabels(\n",
    "    [\"Monday\", \"Tuesday\", \"Wednesday\", \"Thursday\", \"Friday\", \"Saturday\", \"Sunday\"]\n",
    ")\n",
    "plt.xlabel(\"Week day\")\n",
    "plt.ylabel(\"Share (in percent)\")\n",
    "\n",
    "plt.show()"
   ]
  },
  {
   "cell_type": "markdown",
   "id": "ec888e8b-9ea0-447f-8762-7738c3896653",
   "metadata": {},
   "source": [
    "Summarize truck arrivals for one average week day."
   ]
  },
  {
   "cell_type": "code",
   "execution_count": null,
   "id": "463bc72f-2817-4c53-bec1-8f591d8d4023",
   "metadata": {},
   "outputs": [],
   "source": [
    "df = pd.DataFrame(truck_arrival_distribution.items())\n",
    "df.columns = [\"hour in week\", \"fraction\"]\n",
    "now = datetime.datetime.now()\n",
    "this_monday = now - datetime.timedelta(days=now.weekday())\n",
    "this_monday = datetime.datetime.combine(this_monday, datetime.time())\n",
    "df = df.assign(date=df[\"hour in week\"].apply(lambda x: this_monday + datetime.timedelta(hours=x)))\n",
    "df"
   ]
  },
  {
   "cell_type": "code",
   "execution_count": null,
   "id": "b1fafbb9-f71c-4db9-b81b-ecb75e607176",
   "metadata": {},
   "outputs": [],
   "source": [
    "ax = df.groupby(df.date.dt.hour).mean()[\"fraction\"].plot()\n",
    "ax.set_xticks(\n",
    "    [i for i in range(0, 24)]\n",
    ")\n",
    "ax.xaxis.set_major_locator(mticker.MultipleLocator(1))\n",
    "\n",
    "# German\n",
    "plt.title(\"Ankunftsraten (gemittelt)\")\n",
    "plt.xlabel(\"Stunde\")\n",
    "plt.ylabel(\"Anteil (in Prozent)\")\n",
    "\n",
    "# English\n",
    "plt.title(\"Arrival rates (average)\")\n",
    "plt.xlabel(\"Hour\")\n",
    "plt.ylabel(\"Share (percentage)\")\n",
    "\n",
    "plt.xlim([0, 23])\n",
    "plt.show()"
   ]
  },
  {
   "cell_type": "markdown",
   "id": "0558d380-dcd0-4da4-8398-0f3fa3fd8fc7",
   "metadata": {},
   "source": []
  }
 ],
 "metadata": {
  "kernelspec": {
   "display_name": "Python 3 (ipykernel)",
   "language": "python",
   "name": "python3"
  },
  "language_info": {
   "codemirror_mode": {
    "name": "ipython",
    "version": 3
   },
   "file_extension": ".py",
   "mimetype": "text/x-python",
   "name": "python",
   "nbconvert_exporter": "python",
   "pygments_lexer": "ipython3",
   "version": "3.8.12"
  }
 },
 "nbformat": 4,
 "nbformat_minor": 5
}
