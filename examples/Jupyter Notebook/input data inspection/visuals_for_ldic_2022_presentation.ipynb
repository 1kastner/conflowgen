{
 "cells": [
  {
   "cell_type": "markdown",
   "id": "b2332ae2-0fdf-4a4d-ade0-eec2e22404e6",
   "metadata": {},
   "source": [
    "# Visuals for the LDIC 2022 presentation"
   ]
  },
  {
   "cell_type": "code",
   "execution_count": null,
   "id": "e2a547a9-f543-4c97-8994-835244347046",
   "metadata": {},
   "outputs": [],
   "source": [
    "import conflowgen"
   ]
  },
  {
   "cell_type": "markdown",
   "id": "d6c9b026-4be8-4231-82c5-e6893ba67ab2",
   "metadata": {},
   "source": [
    "Open database.\n",
    "If not present, just run the corresponding demo script."
   ]
  },
  {
   "cell_type": "code",
   "execution_count": null,
   "id": "be26c66c-769a-4ad2-8c03-e76718a7d01e",
   "metadata": {},
   "outputs": [],
   "source": [
    "database_chooser = conflowgen.DatabaseChooser()\n",
    "demo_file_name = \"demo_deham_cta.sqlite\"\n",
    "if demo_file_name in database_chooser.list_all_sqlite_databases():\n",
    "    database_chooser.load_existing_sqlite_database(demo_file_name)\n",
    "else:\n",
    "    print(\"Database is missing, nothing to do here\")"
   ]
  },
  {
   "cell_type": "markdown",
   "id": "b6fa6489-e054-491e-95d4-3c3aa8ef28c6",
   "metadata": {},
   "source": [
    "How the preview report that shows from which to which vehicle containers are transshipped."
   ]
  },
  {
   "cell_type": "code",
   "execution_count": null,
   "id": "e9083393-904c-4147-a786-7c6d311970f9",
   "metadata": {},
   "outputs": [],
   "source": [
    "cfvtpr = conflowgen.ContainerFlowByVehicleTypePreviewReport()\n",
    "cfvtpr.show_report_as_graph()"
   ]
  },
  {
   "cell_type": "markdown",
   "id": "0f239de0-0ac9-401b-8241-8ace7264df20",
   "metadata": {},
   "source": [
    "Adjust figure to fit nicely into the presentation."
   ]
  },
  {
   "cell_type": "code",
   "execution_count": null,
   "id": "073cf9c9-0035-4523-bb86-ae33fc69cf38",
   "metadata": {},
   "outputs": [],
   "source": [
    "fig = cfvtpr.get_report_as_graph()\n",
    "fig.update_layout(\n",
    "    title_text=\"\",\n",
    "    font=dict(\n",
    "        family=\"Arial Black\",\n",
    "        size=12,\n",
    "        color=\"black\",\n",
    "    ),\n",
    "    width=900,\n",
    "    height=600\n",
    ")"
   ]
  },
  {
   "cell_type": "code",
   "execution_count": null,
   "id": "515d32fa-2d2e-440e-a7f3-536837052390",
   "metadata": {},
   "outputs": [],
   "source": [
    "fig.write_image(\"container_flow.png\")"
   ]
  },
  {
   "cell_type": "markdown",
   "id": "ff41f34f-d86c-4977-8dfb-5b20ab1c7a6e",
   "metadata": {},
   "source": []
  }
 ],
 "metadata": {
  "kernelspec": {
   "display_name": "Python 3 (ipykernel)",
   "language": "python",
   "name": "python3"
  },
  "language_info": {
   "codemirror_mode": {
    "name": "ipython",
    "version": 3
   },
   "file_extension": ".py",
   "mimetype": "text/x-python",
   "name": "python",
   "nbconvert_exporter": "python",
   "pygments_lexer": "ipython3",
   "version": "3.8.12"
  }
 },
 "nbformat": 4,
 "nbformat_minor": 5
}
